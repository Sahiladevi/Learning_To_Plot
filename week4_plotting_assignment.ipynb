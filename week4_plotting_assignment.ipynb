{
 "cells": [
  {
   "cell_type": "markdown",
   "id": "a58aa4cf",
   "metadata": {},
   "source": [
    "# Week4 Assignment - Submit a link to a GitHub repo where you have made 6 different plots using at least 2 plotting packages."
   ]
  },
  {
   "cell_type": "markdown",
   "id": "c9b27eb0",
   "metadata": {},
   "source": [
    "Step 1 : Getting list of largest companies in the United States by revenue  data from wikipedia weblink"
   ]
  },
  {
   "cell_type": "markdown",
   "id": "79eef3e7",
   "metadata": {},
   "source": [
    "Extracting data from HTML files using BeautifulSoup (Python library used for web scraping)"
   ]
  },
  {
   "cell_type": "code",
   "execution_count": 3,
   "id": "808c62d7",
   "metadata": {},
   "outputs": [],
   "source": [
    "from bs4 import BeautifulSoup\n",
    "import requests\n",
    "import pandas as pd"
   ]
  },
  {
   "cell_type": "code",
   "execution_count": 4,
   "id": "7ea7f00c",
   "metadata": {},
   "outputs": [],
   "source": [
    "url = \"https://en.wikipedia.org/wiki/List_of_largest_companies_in_the_United_States_by_revenue\"\n",
    "page = requests.get(url)\n",
    "soup = BeautifulSoup(page.text, 'html')\n",
    "\n",
    "# view html file\n",
    "# print(soup.prettify())"
   ]
  },
  {
   "cell_type": "code",
   "execution_count": 5,
   "id": "0cd08c9d",
   "metadata": {},
   "outputs": [],
   "source": [
    "# Identify the corresponding data table in the html file and assign it to the variable\n",
    "table = soup.find_all('table')[0]\n",
    "# or table = soup.find('table', class_='wikitable sortable')\n",
    "# print(table)"
   ]
  },
  {
   "cell_type": "code",
   "execution_count": 6,
   "id": "15e248e3",
   "metadata": {},
   "outputs": [],
   "source": [
    "# Getting the table header details\n",
    "world_titles = table.find_all('th')\n",
    "#print(world_titles)"
   ]
  },
  {
   "cell_type": "code",
   "execution_count": 7,
   "id": "aafb30a7",
   "metadata": {},
   "outputs": [
    {
     "name": "stdout",
     "output_type": "stream",
     "text": [
      "['Rank', 'Name', 'Industry', 'Revenue (USD millions)', 'Revenue growth', 'Employees', 'Headquarters']\n"
     ]
    }
   ],
   "source": [
    "# Getting the table header data\n",
    "world_table_titles = [title.text.strip() for title in world_titles]\n",
    "print(world_table_titles)"
   ]
  },
  {
   "cell_type": "markdown",
   "id": "60b6be96",
   "metadata": {},
   "source": [
    "Step 2: Creating the dataframe"
   ]
  },
  {
   "cell_type": "code",
   "execution_count": 8,
   "id": "42f3cecc",
   "metadata": {},
   "outputs": [
    {
     "data": {
      "text/html": [
       "<div>\n",
       "<style scoped>\n",
       "    .dataframe tbody tr th:only-of-type {\n",
       "        vertical-align: middle;\n",
       "    }\n",
       "\n",
       "    .dataframe tbody tr th {\n",
       "        vertical-align: top;\n",
       "    }\n",
       "\n",
       "    .dataframe thead th {\n",
       "        text-align: right;\n",
       "    }\n",
       "</style>\n",
       "<table border=\"1\" class=\"dataframe\">\n",
       "  <thead>\n",
       "    <tr style=\"text-align: right;\">\n",
       "      <th></th>\n",
       "      <th>Rank</th>\n",
       "      <th>Name</th>\n",
       "      <th>Industry</th>\n",
       "      <th>Revenue (USD millions)</th>\n",
       "      <th>Revenue growth</th>\n",
       "      <th>Employees</th>\n",
       "      <th>Headquarters</th>\n",
       "    </tr>\n",
       "  </thead>\n",
       "  <tbody>\n",
       "  </tbody>\n",
       "</table>\n",
       "</div>"
      ],
      "text/plain": [
       "Empty DataFrame\n",
       "Columns: [Rank, Name, Industry, Revenue (USD millions), Revenue growth, Employees, Headquarters]\n",
       "Index: []"
      ]
     },
     "execution_count": 8,
     "metadata": {},
     "output_type": "execute_result"
    }
   ],
   "source": [
    "df = pd.DataFrame(columns = world_table_titles)\n",
    "df"
   ]
  },
  {
   "cell_type": "code",
   "execution_count": 9,
   "id": "72596210",
   "metadata": {},
   "outputs": [],
   "source": [
    "# Getting all the table row details\n",
    "column_data = table.find_all('tr')\n",
    "# print(column_data)"
   ]
  },
  {
   "cell_type": "code",
   "execution_count": 10,
   "id": "3e72d236",
   "metadata": {},
   "outputs": [],
   "source": [
    "# Getting each row data from the table\n",
    "for row in column_data[1:]:\n",
    "    row_data = row.find_all('td')\n",
    "    individual_row_data = [data.text.strip() for data in row_data]\n",
    "    length = len(df)\n",
    "    df.loc[length] = individual_row_data\n",
    "# df\n"
   ]
  },
  {
   "cell_type": "code",
   "execution_count": 11,
   "id": "b83379b1",
   "metadata": {},
   "outputs": [
    {
     "data": {
      "text/html": [
       "<div>\n",
       "<style scoped>\n",
       "    .dataframe tbody tr th:only-of-type {\n",
       "        vertical-align: middle;\n",
       "    }\n",
       "\n",
       "    .dataframe tbody tr th {\n",
       "        vertical-align: top;\n",
       "    }\n",
       "\n",
       "    .dataframe thead th {\n",
       "        text-align: right;\n",
       "    }\n",
       "</style>\n",
       "<table border=\"1\" class=\"dataframe\">\n",
       "  <thead>\n",
       "    <tr style=\"text-align: right;\">\n",
       "      <th></th>\n",
       "      <th>Rank</th>\n",
       "      <th>Name</th>\n",
       "      <th>Industry</th>\n",
       "      <th>Revenue (USD millions)</th>\n",
       "      <th>Revenue growth</th>\n",
       "      <th>Employees</th>\n",
       "      <th>Headquarters</th>\n",
       "    </tr>\n",
       "  </thead>\n",
       "  <tbody>\n",
       "    <tr>\n",
       "      <th>0</th>\n",
       "      <td>1</td>\n",
       "      <td>Walmart</td>\n",
       "      <td>Retail</td>\n",
       "      <td>648,125</td>\n",
       "      <td>6.0%</td>\n",
       "      <td>2,100,000</td>\n",
       "      <td>Bentonville, Arkansas</td>\n",
       "    </tr>\n",
       "    <tr>\n",
       "      <th>1</th>\n",
       "      <td>2</td>\n",
       "      <td>Amazon</td>\n",
       "      <td>Retail and cloud computing</td>\n",
       "      <td>574,785</td>\n",
       "      <td>11.9%</td>\n",
       "      <td>1,525,000</td>\n",
       "      <td>Seattle, Washington</td>\n",
       "    </tr>\n",
       "    <tr>\n",
       "      <th>2</th>\n",
       "      <td>3</td>\n",
       "      <td>Apple</td>\n",
       "      <td>Electronics industry</td>\n",
       "      <td>383,482</td>\n",
       "      <td>-2.8%</td>\n",
       "      <td>161,000</td>\n",
       "      <td>Cupertino, California</td>\n",
       "    </tr>\n",
       "    <tr>\n",
       "      <th>3</th>\n",
       "      <td>4</td>\n",
       "      <td>UnitedHealth Group</td>\n",
       "      <td>Healthcare</td>\n",
       "      <td>371,622</td>\n",
       "      <td>14.6%</td>\n",
       "      <td>440,000</td>\n",
       "      <td>Minnetonka, Minnesota</td>\n",
       "    </tr>\n",
       "    <tr>\n",
       "      <th>4</th>\n",
       "      <td>5</td>\n",
       "      <td>Berkshire Hathaway</td>\n",
       "      <td>Conglomerate</td>\n",
       "      <td>364,482</td>\n",
       "      <td>20.7%</td>\n",
       "      <td>396,500</td>\n",
       "      <td>Omaha, Nebraska</td>\n",
       "    </tr>\n",
       "    <tr>\n",
       "      <th>5</th>\n",
       "      <td>6</td>\n",
       "      <td>CVS Health</td>\n",
       "      <td>Healthcare</td>\n",
       "      <td>357,776</td>\n",
       "      <td>10.9%</td>\n",
       "      <td>259,500</td>\n",
       "      <td>Woonsocket, Rhode Island</td>\n",
       "    </tr>\n",
       "    <tr>\n",
       "      <th>6</th>\n",
       "      <td>7</td>\n",
       "      <td>ExxonMobil</td>\n",
       "      <td>Petroleum industry</td>\n",
       "      <td>344,582</td>\n",
       "      <td>-16.7%</td>\n",
       "      <td>61,500</td>\n",
       "      <td>Spring, Texas</td>\n",
       "    </tr>\n",
       "    <tr>\n",
       "      <th>7</th>\n",
       "      <td>8</td>\n",
       "      <td>Alphabet</td>\n",
       "      <td>Technology and cloud computing</td>\n",
       "      <td>307,394</td>\n",
       "      <td>8.7%</td>\n",
       "      <td>182,502</td>\n",
       "      <td>Mountain View, California</td>\n",
       "    </tr>\n",
       "    <tr>\n",
       "      <th>8</th>\n",
       "      <td>9</td>\n",
       "      <td>McKesson Corporation</td>\n",
       "      <td>Health</td>\n",
       "      <td>276,711</td>\n",
       "      <td>4.8%</td>\n",
       "      <td>48,000</td>\n",
       "      <td>Irving, Texas</td>\n",
       "    </tr>\n",
       "    <tr>\n",
       "      <th>9</th>\n",
       "      <td>10</td>\n",
       "      <td>Cencora</td>\n",
       "      <td>Pharmacy wholesale</td>\n",
       "      <td>262,173</td>\n",
       "      <td>9.9%</td>\n",
       "      <td>44,000</td>\n",
       "      <td>Conshohocken, Pennsylvania</td>\n",
       "    </tr>\n",
       "    <tr>\n",
       "      <th>10</th>\n",
       "      <td>11</td>\n",
       "      <td>Costco</td>\n",
       "      <td>Retail</td>\n",
       "      <td>242,290</td>\n",
       "      <td>6.8%</td>\n",
       "      <td>316,000</td>\n",
       "      <td>Issaquah, Washington</td>\n",
       "    </tr>\n",
       "    <tr>\n",
       "      <th>11</th>\n",
       "      <td>12</td>\n",
       "      <td>JPMorgan Chase</td>\n",
       "      <td>Financial services</td>\n",
       "      <td>239,425</td>\n",
       "      <td>54.7%</td>\n",
       "      <td>309,926</td>\n",
       "      <td>New York City, New York</td>\n",
       "    </tr>\n",
       "    <tr>\n",
       "      <th>12</th>\n",
       "      <td>13</td>\n",
       "      <td>Microsoft</td>\n",
       "      <td>Technology and cloud computing</td>\n",
       "      <td>211,915</td>\n",
       "      <td>6.9%</td>\n",
       "      <td>221,000</td>\n",
       "      <td>Redmond, Washington</td>\n",
       "    </tr>\n",
       "    <tr>\n",
       "      <th>13</th>\n",
       "      <td>14</td>\n",
       "      <td>Cardinal Health</td>\n",
       "      <td>Healthcare</td>\n",
       "      <td>205,012</td>\n",
       "      <td>13.0%</td>\n",
       "      <td>47,520</td>\n",
       "      <td>Dublin, Ohio</td>\n",
       "    </tr>\n",
       "    <tr>\n",
       "      <th>14</th>\n",
       "      <td>15</td>\n",
       "      <td>Chevron Corporation</td>\n",
       "      <td>Petroleum industry</td>\n",
       "      <td>200,949</td>\n",
       "      <td>-18.4%</td>\n",
       "      <td>45,600</td>\n",
       "      <td>Houston, Texas</td>\n",
       "    </tr>\n",
       "    <tr>\n",
       "      <th>15</th>\n",
       "      <td>16</td>\n",
       "      <td>Cigna</td>\n",
       "      <td>Health insurance</td>\n",
       "      <td>195,265</td>\n",
       "      <td>8.2%</td>\n",
       "      <td>71,413</td>\n",
       "      <td>Bloomfield, Connecticut</td>\n",
       "    </tr>\n",
       "    <tr>\n",
       "      <th>16</th>\n",
       "      <td>17</td>\n",
       "      <td>Ford Motor Company</td>\n",
       "      <td>Automotive industry</td>\n",
       "      <td>176,191</td>\n",
       "      <td>11.5%</td>\n",
       "      <td>177,000</td>\n",
       "      <td>Dearborn, Michigan</td>\n",
       "    </tr>\n",
       "    <tr>\n",
       "      <th>17</th>\n",
       "      <td>18</td>\n",
       "      <td>Bank of America</td>\n",
       "      <td>Financials</td>\n",
       "      <td>171,912</td>\n",
       "      <td>49.4%</td>\n",
       "      <td>212,985</td>\n",
       "      <td>Charlotte, North Carolina</td>\n",
       "    </tr>\n",
       "    <tr>\n",
       "      <th>18</th>\n",
       "      <td>19</td>\n",
       "      <td>General Motors</td>\n",
       "      <td>Automotive industry</td>\n",
       "      <td>171,842</td>\n",
       "      <td>9.6%</td>\n",
       "      <td>163,000</td>\n",
       "      <td>Detroit, Michigan</td>\n",
       "    </tr>\n",
       "    <tr>\n",
       "      <th>19</th>\n",
       "      <td>20</td>\n",
       "      <td>Elevance Health</td>\n",
       "      <td>Healthcare</td>\n",
       "      <td>171,340</td>\n",
       "      <td>9.4%</td>\n",
       "      <td>104,900</td>\n",
       "      <td>Indianapolis, Indiana</td>\n",
       "    </tr>\n",
       "    <tr>\n",
       "      <th>20</th>\n",
       "      <td>21</td>\n",
       "      <td>Citigroup</td>\n",
       "      <td>Financials</td>\n",
       "      <td>156,820</td>\n",
       "      <td>55.1%</td>\n",
       "      <td>237,925</td>\n",
       "      <td>New York City, New York</td>\n",
       "    </tr>\n",
       "    <tr>\n",
       "      <th>21</th>\n",
       "      <td>22</td>\n",
       "      <td>Centene</td>\n",
       "      <td>Healthcare</td>\n",
       "      <td>153,999</td>\n",
       "      <td>6.5%</td>\n",
       "      <td>67,700</td>\n",
       "      <td>St. Louis, Missouri</td>\n",
       "    </tr>\n",
       "    <tr>\n",
       "      <th>22</th>\n",
       "      <td>23</td>\n",
       "      <td>The Home Depot</td>\n",
       "      <td>Retail</td>\n",
       "      <td>152,669</td>\n",
       "      <td>-3.0%</td>\n",
       "      <td>463,100</td>\n",
       "      <td>Atlanta, Georgia</td>\n",
       "    </tr>\n",
       "    <tr>\n",
       "      <th>23</th>\n",
       "      <td>24</td>\n",
       "      <td>Marathon Petroleum</td>\n",
       "      <td>Petroleum industry</td>\n",
       "      <td>150,307</td>\n",
       "      <td>-16.5%</td>\n",
       "      <td>18,200</td>\n",
       "      <td>Findlay, Ohio</td>\n",
       "    </tr>\n",
       "    <tr>\n",
       "      <th>24</th>\n",
       "      <td>25</td>\n",
       "      <td>Kroger</td>\n",
       "      <td>Retail</td>\n",
       "      <td>150,039</td>\n",
       "      <td>-3.6%</td>\n",
       "      <td>414,000</td>\n",
       "      <td>Cincinnati, Ohio</td>\n",
       "    </tr>\n",
       "    <tr>\n",
       "      <th>25</th>\n",
       "      <td>26</td>\n",
       "      <td>Phillips 66</td>\n",
       "      <td>Petroleum industry</td>\n",
       "      <td>149,890</td>\n",
       "      <td>-14.7%</td>\n",
       "      <td>14,000</td>\n",
       "      <td>Houston, Texas</td>\n",
       "    </tr>\n",
       "    <tr>\n",
       "      <th>26</th>\n",
       "      <td>27</td>\n",
       "      <td>Fannie Mae</td>\n",
       "      <td>Financials</td>\n",
       "      <td>141,240</td>\n",
       "      <td>16.2%</td>\n",
       "      <td>8,100</td>\n",
       "      <td>Washington, D.C.</td>\n",
       "    </tr>\n",
       "    <tr>\n",
       "      <th>27</th>\n",
       "      <td>28</td>\n",
       "      <td>Walgreens Boots Alliance</td>\n",
       "      <td>Pharmaceutical industry</td>\n",
       "      <td>139,081</td>\n",
       "      <td>4.8%</td>\n",
       "      <td>268,500</td>\n",
       "      <td>Deerfield, Illinois</td>\n",
       "    </tr>\n",
       "    <tr>\n",
       "      <th>28</th>\n",
       "      <td>29</td>\n",
       "      <td>Valero Energy</td>\n",
       "      <td>Petroleum industry</td>\n",
       "      <td>139,001</td>\n",
       "      <td>-18.8%</td>\n",
       "      <td>9,987</td>\n",
       "      <td>San Antonio, Texas</td>\n",
       "    </tr>\n",
       "    <tr>\n",
       "      <th>29</th>\n",
       "      <td>30</td>\n",
       "      <td>Meta Platforms</td>\n",
       "      <td>Technology</td>\n",
       "      <td>134,902</td>\n",
       "      <td>15.7%</td>\n",
       "      <td>67,317</td>\n",
       "      <td>Menlo Park, California</td>\n",
       "    </tr>\n",
       "    <tr>\n",
       "      <th>30</th>\n",
       "      <td>31</td>\n",
       "      <td>Verizon Communications</td>\n",
       "      <td>Telecommunications</td>\n",
       "      <td>133,974</td>\n",
       "      <td>-2.1%</td>\n",
       "      <td>105,400</td>\n",
       "      <td>New York City, New York</td>\n",
       "    </tr>\n",
       "    <tr>\n",
       "      <th>31</th>\n",
       "      <td>32</td>\n",
       "      <td>AT&amp;T</td>\n",
       "      <td>Conglomerate and telecommunications</td>\n",
       "      <td>122,428</td>\n",
       "      <td>1.4%</td>\n",
       "      <td>150,470</td>\n",
       "      <td>Dallas, Texas</td>\n",
       "    </tr>\n",
       "    <tr>\n",
       "      <th>32</th>\n",
       "      <td>33</td>\n",
       "      <td>Comcast</td>\n",
       "      <td>Telecommunications</td>\n",
       "      <td>121,572</td>\n",
       "      <td>0.1%</td>\n",
       "      <td>186,000</td>\n",
       "      <td>Philadelphia, Pennsylvania</td>\n",
       "    </tr>\n",
       "    <tr>\n",
       "      <th>33</th>\n",
       "      <td>34</td>\n",
       "      <td>Wells Fargo</td>\n",
       "      <td>Financials</td>\n",
       "      <td>115,340</td>\n",
       "      <td>39.2%</td>\n",
       "      <td>226,000</td>\n",
       "      <td>San Francisco, California</td>\n",
       "    </tr>\n",
       "    <tr>\n",
       "      <th>34</th>\n",
       "      <td>35</td>\n",
       "      <td>Goldman Sachs</td>\n",
       "      <td>Financials</td>\n",
       "      <td>108,418</td>\n",
       "      <td>57.8%</td>\n",
       "      <td>45,300</td>\n",
       "      <td>New York City, New York</td>\n",
       "    </tr>\n",
       "    <tr>\n",
       "      <th>35</th>\n",
       "      <td>36</td>\n",
       "      <td>Freddie Mac</td>\n",
       "      <td>Financials</td>\n",
       "      <td>108,050</td>\n",
       "      <td>24.6%</td>\n",
       "      <td>8,020</td>\n",
       "      <td>McLean, Virginia</td>\n",
       "    </tr>\n",
       "    <tr>\n",
       "      <th>36</th>\n",
       "      <td>37</td>\n",
       "      <td>Target Corporation</td>\n",
       "      <td>Retail</td>\n",
       "      <td>107,412</td>\n",
       "      <td>-1.6%</td>\n",
       "      <td>415,000</td>\n",
       "      <td>Minneapolis, Minnesota</td>\n",
       "    </tr>\n",
       "    <tr>\n",
       "      <th>37</th>\n",
       "      <td>38</td>\n",
       "      <td>Humana</td>\n",
       "      <td>Health insurance</td>\n",
       "      <td>106,374</td>\n",
       "      <td>14.5%</td>\n",
       "      <td>67,600</td>\n",
       "      <td>Louisville, Kentucky</td>\n",
       "    </tr>\n",
       "    <tr>\n",
       "      <th>38</th>\n",
       "      <td>39</td>\n",
       "      <td>State Farm</td>\n",
       "      <td>Financials</td>\n",
       "      <td>104,199</td>\n",
       "      <td>16.6%</td>\n",
       "      <td>65,054</td>\n",
       "      <td>Bloomington, Illinois</td>\n",
       "    </tr>\n",
       "    <tr>\n",
       "      <th>39</th>\n",
       "      <td>40</td>\n",
       "      <td>Tesla</td>\n",
       "      <td>Automotive and energy</td>\n",
       "      <td>96,773</td>\n",
       "      <td>18.8%</td>\n",
       "      <td>140,473</td>\n",
       "      <td>Austin, Texas</td>\n",
       "    </tr>\n",
       "    <tr>\n",
       "      <th>40</th>\n",
       "      <td>41</td>\n",
       "      <td>Morgan Stanley</td>\n",
       "      <td>Financials</td>\n",
       "      <td>96,194</td>\n",
       "      <td>45.9%</td>\n",
       "      <td>80,006</td>\n",
       "      <td>New York City, New York</td>\n",
       "    </tr>\n",
       "    <tr>\n",
       "      <th>41</th>\n",
       "      <td>42</td>\n",
       "      <td>Johnson &amp; Johnson</td>\n",
       "      <td>Pharmaceutical industry</td>\n",
       "      <td>95,195</td>\n",
       "      <td>0.3%</td>\n",
       "      <td>131,900</td>\n",
       "      <td>New Brunswick, New Jersey</td>\n",
       "    </tr>\n",
       "    <tr>\n",
       "      <th>42</th>\n",
       "      <td>43</td>\n",
       "      <td>Archer Daniels Midland</td>\n",
       "      <td>Food industry</td>\n",
       "      <td>93,935</td>\n",
       "      <td>-7.5%</td>\n",
       "      <td>41,008</td>\n",
       "      <td>Chicago, Illinois</td>\n",
       "    </tr>\n",
       "    <tr>\n",
       "      <th>43</th>\n",
       "      <td>44</td>\n",
       "      <td>PepsiCo</td>\n",
       "      <td>Beverage</td>\n",
       "      <td>91,471</td>\n",
       "      <td>5.9%</td>\n",
       "      <td>318,000</td>\n",
       "      <td>Purchase, New York</td>\n",
       "    </tr>\n",
       "    <tr>\n",
       "      <th>44</th>\n",
       "      <td>45</td>\n",
       "      <td>United Parcel Service</td>\n",
       "      <td>Transportation</td>\n",
       "      <td>90,958</td>\n",
       "      <td>-9.3%</td>\n",
       "      <td>382,550</td>\n",
       "      <td>Atlanta, Georgia</td>\n",
       "    </tr>\n",
       "    <tr>\n",
       "      <th>45</th>\n",
       "      <td>46</td>\n",
       "      <td>FedEx</td>\n",
       "      <td>Transportation</td>\n",
       "      <td>90,155</td>\n",
       "      <td>-3.6%</td>\n",
       "      <td>446,400</td>\n",
       "      <td>Memphis, Tennessee</td>\n",
       "    </tr>\n",
       "    <tr>\n",
       "      <th>46</th>\n",
       "      <td>47</td>\n",
       "      <td>The Walt Disney Company</td>\n",
       "      <td>Media</td>\n",
       "      <td>88,898</td>\n",
       "      <td>7.5%</td>\n",
       "      <td>199,125</td>\n",
       "      <td>Burbank, California</td>\n",
       "    </tr>\n",
       "    <tr>\n",
       "      <th>47</th>\n",
       "      <td>48</td>\n",
       "      <td>Dell Technologies</td>\n",
       "      <td>Technology</td>\n",
       "      <td>88,425</td>\n",
       "      <td>-13.6%</td>\n",
       "      <td>120,000</td>\n",
       "      <td>Round Rock, Texas</td>\n",
       "    </tr>\n",
       "    <tr>\n",
       "      <th>48</th>\n",
       "      <td>49</td>\n",
       "      <td>Lowe's</td>\n",
       "      <td>Retail</td>\n",
       "      <td>86,377</td>\n",
       "      <td>-11.0%</td>\n",
       "      <td>226,000</td>\n",
       "      <td>Mooresville, North Carolina</td>\n",
       "    </tr>\n",
       "    <tr>\n",
       "      <th>49</th>\n",
       "      <td>50</td>\n",
       "      <td>Procter &amp; Gamble</td>\n",
       "      <td>Consumer products manufacturing</td>\n",
       "      <td>82,006</td>\n",
       "      <td>2.3%</td>\n",
       "      <td>107,000</td>\n",
       "      <td>Cincinnati, Ohio</td>\n",
       "    </tr>\n",
       "    <tr>\n",
       "      <th>50</th>\n",
       "      <td>51</td>\n",
       "      <td>Energy Transfer Partners</td>\n",
       "      <td>Petroleum industry</td>\n",
       "      <td>78,586</td>\n",
       "      <td>-12.6%</td>\n",
       "      <td>13,786</td>\n",
       "      <td>Dallas, Texas</td>\n",
       "    </tr>\n",
       "    <tr>\n",
       "      <th>51</th>\n",
       "      <td>52</td>\n",
       "      <td>Boeing</td>\n",
       "      <td>Aerospace and defense</td>\n",
       "      <td>77,794</td>\n",
       "      <td>16.8%</td>\n",
       "      <td>171,000</td>\n",
       "      <td>Arlington County, Virginia</td>\n",
       "    </tr>\n",
       "    <tr>\n",
       "      <th>52</th>\n",
       "      <td>53</td>\n",
       "      <td>Albertsons</td>\n",
       "      <td>Retail</td>\n",
       "      <td>77,650</td>\n",
       "      <td>8.0%</td>\n",
       "      <td>198,650</td>\n",
       "      <td>Boise, Idaho</td>\n",
       "    </tr>\n",
       "    <tr>\n",
       "      <th>53</th>\n",
       "      <td>54</td>\n",
       "      <td>Sysco</td>\n",
       "      <td>Food service</td>\n",
       "      <td>76,325</td>\n",
       "      <td>11.2%</td>\n",
       "      <td>71,750</td>\n",
       "      <td>Houston, Texas</td>\n",
       "    </tr>\n",
       "    <tr>\n",
       "      <th>54</th>\n",
       "      <td>55</td>\n",
       "      <td>RTX Corporation</td>\n",
       "      <td>Conglomerate</td>\n",
       "      <td>68,920</td>\n",
       "      <td>2.8%</td>\n",
       "      <td>185,000</td>\n",
       "      <td>Arlington County, Virginia</td>\n",
       "    </tr>\n",
       "    <tr>\n",
       "      <th>55</th>\n",
       "      <td>56</td>\n",
       "      <td>General Electric</td>\n",
       "      <td>Conglomerate</td>\n",
       "      <td>67,954</td>\n",
       "      <td>-11.2%</td>\n",
       "      <td>125,000</td>\n",
       "      <td>Boston, Massachusetts</td>\n",
       "    </tr>\n",
       "    <tr>\n",
       "      <th>56</th>\n",
       "      <td>57</td>\n",
       "      <td>Lockheed Martin</td>\n",
       "      <td>Aerospace and defense</td>\n",
       "      <td>67,571</td>\n",
       "      <td>2.4%</td>\n",
       "      <td>122,000</td>\n",
       "      <td>Bethesda, Maryland</td>\n",
       "    </tr>\n",
       "    <tr>\n",
       "      <th>57</th>\n",
       "      <td>58</td>\n",
       "      <td>American Express</td>\n",
       "      <td>Financial</td>\n",
       "      <td>67,364</td>\n",
       "      <td>21.1%</td>\n",
       "      <td>74,600</td>\n",
       "      <td>New York City, New York</td>\n",
       "    </tr>\n",
       "    <tr>\n",
       "      <th>58</th>\n",
       "      <td>59</td>\n",
       "      <td>Caterpillar</td>\n",
       "      <td>Machinery</td>\n",
       "      <td>67,060</td>\n",
       "      <td>12.8%</td>\n",
       "      <td>113,200</td>\n",
       "      <td>Irving, Texas</td>\n",
       "    </tr>\n",
       "    <tr>\n",
       "      <th>59</th>\n",
       "      <td>60</td>\n",
       "      <td>MetLife</td>\n",
       "      <td>Financials</td>\n",
       "      <td>66,905</td>\n",
       "      <td>-4.3%</td>\n",
       "      <td>45,000</td>\n",
       "      <td>New York City, New York</td>\n",
       "    </tr>\n",
       "    <tr>\n",
       "      <th>60</th>\n",
       "      <td>61</td>\n",
       "      <td>HCA Healthcare</td>\n",
       "      <td>Healthcare</td>\n",
       "      <td>64,968</td>\n",
       "      <td>7.9%</td>\n",
       "      <td>265,000</td>\n",
       "      <td>Nashville, Tennessee</td>\n",
       "    </tr>\n",
       "    <tr>\n",
       "      <th>61</th>\n",
       "      <td>62</td>\n",
       "      <td>Progressive Corporation</td>\n",
       "      <td>Insurance</td>\n",
       "      <td>62,109</td>\n",
       "      <td>25.2%</td>\n",
       "      <td>61,432</td>\n",
       "      <td>Mayfield Village, Ohio</td>\n",
       "    </tr>\n",
       "    <tr>\n",
       "      <th>62</th>\n",
       "      <td>63</td>\n",
       "      <td>IBM</td>\n",
       "      <td>Technology and cloud computing</td>\n",
       "      <td>61,860</td>\n",
       "      <td>-16.3%</td>\n",
       "      <td>296,600</td>\n",
       "      <td>Armonk, New York</td>\n",
       "    </tr>\n",
       "    <tr>\n",
       "      <th>63</th>\n",
       "      <td>64</td>\n",
       "      <td>John Deere</td>\n",
       "      <td>Agriculture manufacturing</td>\n",
       "      <td>61,251</td>\n",
       "      <td>16.5%</td>\n",
       "      <td>82,956</td>\n",
       "      <td>Moline, Illinois</td>\n",
       "    </tr>\n",
       "    <tr>\n",
       "      <th>64</th>\n",
       "      <td>65</td>\n",
       "      <td>Nvidia</td>\n",
       "      <td>Technology</td>\n",
       "      <td>60,922</td>\n",
       "      <td>125.9%</td>\n",
       "      <td>29,600</td>\n",
       "      <td>Santa Clara, California</td>\n",
       "    </tr>\n",
       "    <tr>\n",
       "      <th>65</th>\n",
       "      <td>66</td>\n",
       "      <td>StoneX Group</td>\n",
       "      <td>Financials</td>\n",
       "      <td>60,856</td>\n",
       "      <td>-7.8%</td>\n",
       "      <td>4,137</td>\n",
       "      <td>New York City, New York</td>\n",
       "    </tr>\n",
       "    <tr>\n",
       "      <th>66</th>\n",
       "      <td>67</td>\n",
       "      <td>Merck &amp; Co.</td>\n",
       "      <td>Pharmaceutical industry</td>\n",
       "      <td>60,115</td>\n",
       "      <td>1.4%</td>\n",
       "      <td>71,000</td>\n",
       "      <td>Kenilworth, New Jersey</td>\n",
       "    </tr>\n",
       "    <tr>\n",
       "      <th>67</th>\n",
       "      <td>68</td>\n",
       "      <td>ConocoPhillips</td>\n",
       "      <td>Petroleum industry</td>\n",
       "      <td>58,574</td>\n",
       "      <td>-28.7%</td>\n",
       "      <td>9,900</td>\n",
       "      <td>Houston, Texas</td>\n",
       "    </tr>\n",
       "    <tr>\n",
       "      <th>68</th>\n",
       "      <td>69</td>\n",
       "      <td>Pfizer</td>\n",
       "      <td>Pharmaceutical industry</td>\n",
       "      <td>58,496</td>\n",
       "      <td>-41.7%</td>\n",
       "      <td>88,000</td>\n",
       "      <td>New York City, New York</td>\n",
       "    </tr>\n",
       "    <tr>\n",
       "      <th>69</th>\n",
       "      <td>70</td>\n",
       "      <td>Delta Air Lines</td>\n",
       "      <td>Airline</td>\n",
       "      <td>58,048</td>\n",
       "      <td>14.8%</td>\n",
       "      <td>103,000</td>\n",
       "      <td>Atlanta, Georgia</td>\n",
       "    </tr>\n",
       "    <tr>\n",
       "      <th>70</th>\n",
       "      <td>71</td>\n",
       "      <td>TD Synnex</td>\n",
       "      <td>Infotech</td>\n",
       "      <td>57,555</td>\n",
       "      <td>-7.7%</td>\n",
       "      <td>28,000</td>\n",
       "      <td>Clearwater, Florida</td>\n",
       "    </tr>\n",
       "    <tr>\n",
       "      <th>71</th>\n",
       "      <td>72</td>\n",
       "      <td>Publix</td>\n",
       "      <td>Retail</td>\n",
       "      <td>57,534</td>\n",
       "      <td>4.7%</td>\n",
       "      <td>253,000</td>\n",
       "      <td>Lakeland, Florida</td>\n",
       "    </tr>\n",
       "    <tr>\n",
       "      <th>72</th>\n",
       "      <td>73</td>\n",
       "      <td>Allstate</td>\n",
       "      <td>Insurance</td>\n",
       "      <td>57,094</td>\n",
       "      <td>11.1%</td>\n",
       "      <td>53,200</td>\n",
       "      <td>Northfield Township, Cook County, Illinois</td>\n",
       "    </tr>\n",
       "    <tr>\n",
       "      <th>73</th>\n",
       "      <td>74</td>\n",
       "      <td>Cisco</td>\n",
       "      <td>Telecom hardware manufacturing</td>\n",
       "      <td>56,998</td>\n",
       "      <td>10.6%</td>\n",
       "      <td>84,900</td>\n",
       "      <td>San Jose, California</td>\n",
       "    </tr>\n",
       "    <tr>\n",
       "      <th>74</th>\n",
       "      <td>75</td>\n",
       "      <td>Nationwide Mutual Insurance Company</td>\n",
       "      <td>Financial</td>\n",
       "      <td>54,609</td>\n",
       "      <td>6.1%</td>\n",
       "      <td>24,118</td>\n",
       "      <td>Columbus, Ohio</td>\n",
       "    </tr>\n",
       "    <tr>\n",
       "      <th>75</th>\n",
       "      <td>76</td>\n",
       "      <td>Charter Communications</td>\n",
       "      <td>Telecommunications</td>\n",
       "      <td>54,607</td>\n",
       "      <td>1.1%</td>\n",
       "      <td>101,100</td>\n",
       "      <td>Stamford, Connecticut</td>\n",
       "    </tr>\n",
       "    <tr>\n",
       "      <th>76</th>\n",
       "      <td>77</td>\n",
       "      <td>AbbVie</td>\n",
       "      <td>Pharmaceutical industry</td>\n",
       "      <td>54,317</td>\n",
       "      <td>-6.4%</td>\n",
       "      <td>50,000</td>\n",
       "      <td>Lake Bluff, Illinois</td>\n",
       "    </tr>\n",
       "    <tr>\n",
       "      <th>77</th>\n",
       "      <td>78</td>\n",
       "      <td>New York Life Insurance Company</td>\n",
       "      <td>Insurance</td>\n",
       "      <td>54,317</td>\n",
       "      <td>14.2%</td>\n",
       "      <td>15,384</td>\n",
       "      <td>New York City, New York</td>\n",
       "    </tr>\n",
       "    <tr>\n",
       "      <th>78</th>\n",
       "      <td>79</td>\n",
       "      <td>Intel</td>\n",
       "      <td>Technology</td>\n",
       "      <td>54,228</td>\n",
       "      <td>-14.0%</td>\n",
       "      <td>124,800</td>\n",
       "      <td>Santa Clara, California</td>\n",
       "    </tr>\n",
       "    <tr>\n",
       "      <th>79</th>\n",
       "      <td>80</td>\n",
       "      <td>TJX</td>\n",
       "      <td>Retail</td>\n",
       "      <td>49,936</td>\n",
       "      <td>2.9%</td>\n",
       "      <td>329,000</td>\n",
       "      <td>Framingham, Massachusetts</td>\n",
       "    </tr>\n",
       "    <tr>\n",
       "      <th>80</th>\n",
       "      <td>81</td>\n",
       "      <td>Prudential Financial</td>\n",
       "      <td>Financials</td>\n",
       "      <td>53,979</td>\n",
       "      <td>-10.1%</td>\n",
       "      <td>40,366</td>\n",
       "      <td>Newark, New Jersey</td>\n",
       "    </tr>\n",
       "    <tr>\n",
       "      <th>81</th>\n",
       "      <td>82</td>\n",
       "      <td>HP</td>\n",
       "      <td>Technology</td>\n",
       "      <td>53,718</td>\n",
       "      <td>-14.5%</td>\n",
       "      <td>58,000</td>\n",
       "      <td>Palo Alto, California</td>\n",
       "    </tr>\n",
       "    <tr>\n",
       "      <th>82</th>\n",
       "      <td>83</td>\n",
       "      <td>United Airlines</td>\n",
       "      <td>Airline</td>\n",
       "      <td>53,717</td>\n",
       "      <td>19.5%</td>\n",
       "      <td>103,300</td>\n",
       "      <td>Chicago, Illinois</td>\n",
       "    </tr>\n",
       "    <tr>\n",
       "      <th>83</th>\n",
       "      <td>84</td>\n",
       "      <td>Performance Food Group</td>\n",
       "      <td>Food processing</td>\n",
       "      <td>53,355</td>\n",
       "      <td>13.1%</td>\n",
       "      <td>34,825</td>\n",
       "      <td>Richmond, Virginia</td>\n",
       "    </tr>\n",
       "    <tr>\n",
       "      <th>84</th>\n",
       "      <td>85</td>\n",
       "      <td>Tyson Foods</td>\n",
       "      <td>Food processing</td>\n",
       "      <td>52,788</td>\n",
       "      <td>-0.8%</td>\n",
       "      <td>139,000</td>\n",
       "      <td>Springdale, Arkansas</td>\n",
       "    </tr>\n",
       "    <tr>\n",
       "      <th>85</th>\n",
       "      <td>86</td>\n",
       "      <td>American Airlines</td>\n",
       "      <td>Airline</td>\n",
       "      <td>52,788</td>\n",
       "      <td>7.8%</td>\n",
       "      <td>132,100</td>\n",
       "      <td>Fort Worth, Texas</td>\n",
       "    </tr>\n",
       "    <tr>\n",
       "      <th>86</th>\n",
       "      <td>87</td>\n",
       "      <td>Liberty Mutual</td>\n",
       "      <td>Insurance</td>\n",
       "      <td>52,612</td>\n",
       "      <td>5.3%</td>\n",
       "      <td>45,000</td>\n",
       "      <td>Boston, Massachusetts</td>\n",
       "    </tr>\n",
       "    <tr>\n",
       "      <th>87</th>\n",
       "      <td>88</td>\n",
       "      <td>Nike</td>\n",
       "      <td>Apparel</td>\n",
       "      <td>51,217</td>\n",
       "      <td>9.6%</td>\n",
       "      <td>83,700</td>\n",
       "      <td>Beaverton, Oregon</td>\n",
       "    </tr>\n",
       "    <tr>\n",
       "      <th>88</th>\n",
       "      <td>89</td>\n",
       "      <td>Oracle Corporation</td>\n",
       "      <td>Technology</td>\n",
       "      <td>49,954</td>\n",
       "      <td>17.7%</td>\n",
       "      <td>164,000</td>\n",
       "      <td>Austin, Texas</td>\n",
       "    </tr>\n",
       "    <tr>\n",
       "      <th>89</th>\n",
       "      <td>90</td>\n",
       "      <td>Enterprise Products</td>\n",
       "      <td>Petroleum industry</td>\n",
       "      <td>49,715</td>\n",
       "      <td>-14.6%</td>\n",
       "      <td>7,500</td>\n",
       "      <td>Houston, Texas</td>\n",
       "    </tr>\n",
       "    <tr>\n",
       "      <th>90</th>\n",
       "      <td>91</td>\n",
       "      <td>Capital One Financial</td>\n",
       "      <td>Financials</td>\n",
       "      <td>49,484</td>\n",
       "      <td>29.0%</td>\n",
       "      <td>51,987</td>\n",
       "      <td>Richmond, Virginia</td>\n",
       "    </tr>\n",
       "    <tr>\n",
       "      <th>91</th>\n",
       "      <td>92</td>\n",
       "      <td>Plains All American Pipeline</td>\n",
       "      <td>Petroleum industry</td>\n",
       "      <td>48,712</td>\n",
       "      <td>-15.1%</td>\n",
       "      <td>4,200</td>\n",
       "      <td>Houston, Texas</td>\n",
       "    </tr>\n",
       "    <tr>\n",
       "      <th>92</th>\n",
       "      <td>93</td>\n",
       "      <td>World Kinect Corporation</td>\n",
       "      <td>Energy trading</td>\n",
       "      <td>47,711</td>\n",
       "      <td>-19.2%</td>\n",
       "      <td>5,289</td>\n",
       "      <td>Doral, Florida</td>\n",
       "    </tr>\n",
       "    <tr>\n",
       "      <th>93</th>\n",
       "      <td>94</td>\n",
       "      <td>AIG</td>\n",
       "      <td>Insurance</td>\n",
       "      <td>46,802</td>\n",
       "      <td>-17.1%</td>\n",
       "      <td>25,200</td>\n",
       "      <td>New York City, New York</td>\n",
       "    </tr>\n",
       "    <tr>\n",
       "      <th>94</th>\n",
       "      <td>95</td>\n",
       "      <td>Coca-Cola</td>\n",
       "      <td>Beverage</td>\n",
       "      <td>45,754</td>\n",
       "      <td>6.4%</td>\n",
       "      <td>79,100</td>\n",
       "      <td>Atlanta, Georgia</td>\n",
       "    </tr>\n",
       "    <tr>\n",
       "      <th>95</th>\n",
       "      <td>96</td>\n",
       "      <td>TIAA</td>\n",
       "      <td>Financials</td>\n",
       "      <td>45,735</td>\n",
       "      <td>11.8%</td>\n",
       "      <td>16,023</td>\n",
       "      <td>New York City, New York</td>\n",
       "    </tr>\n",
       "    <tr>\n",
       "      <th>96</th>\n",
       "      <td>97</td>\n",
       "      <td>CHS</td>\n",
       "      <td>Agriculture cooperative</td>\n",
       "      <td>45,590</td>\n",
       "      <td>-4.6%</td>\n",
       "      <td>10,609</td>\n",
       "      <td>Inver Grove Heights, Minnesota</td>\n",
       "    </tr>\n",
       "    <tr>\n",
       "      <th>97</th>\n",
       "      <td>98</td>\n",
       "      <td>Bristol-Myers Squibb</td>\n",
       "      <td>Pharmaceutical industry</td>\n",
       "      <td>45,006</td>\n",
       "      <td>-2.5%</td>\n",
       "      <td>34,100</td>\n",
       "      <td>New York City, New York</td>\n",
       "    </tr>\n",
       "    <tr>\n",
       "      <th>98</th>\n",
       "      <td>99</td>\n",
       "      <td>Dow Chemical Company</td>\n",
       "      <td>Chemical industry</td>\n",
       "      <td>44,622</td>\n",
       "      <td>-21.6%</td>\n",
       "      <td>35,900</td>\n",
       "      <td>Midland, Michigan</td>\n",
       "    </tr>\n",
       "    <tr>\n",
       "      <th>99</th>\n",
       "      <td>100</td>\n",
       "      <td>Best Buy</td>\n",
       "      <td>Retail</td>\n",
       "      <td>43,452</td>\n",
       "      <td>-6.1%</td>\n",
       "      <td>85,000</td>\n",
       "      <td>Richfield, Minnesota</td>\n",
       "    </tr>\n",
       "  </tbody>\n",
       "</table>\n",
       "</div>"
      ],
      "text/plain": [
       "   Rank                                 Name  \\\n",
       "0     1                              Walmart   \n",
       "1     2                               Amazon   \n",
       "2     3                                Apple   \n",
       "3     4                   UnitedHealth Group   \n",
       "4     5                   Berkshire Hathaway   \n",
       "5     6                           CVS Health   \n",
       "6     7                           ExxonMobil   \n",
       "7     8                             Alphabet   \n",
       "8     9                 McKesson Corporation   \n",
       "9    10                              Cencora   \n",
       "10   11                               Costco   \n",
       "11   12                       JPMorgan Chase   \n",
       "12   13                            Microsoft   \n",
       "13   14                      Cardinal Health   \n",
       "14   15                  Chevron Corporation   \n",
       "15   16                                Cigna   \n",
       "16   17                   Ford Motor Company   \n",
       "17   18                      Bank of America   \n",
       "18   19                       General Motors   \n",
       "19   20                      Elevance Health   \n",
       "20   21                            Citigroup   \n",
       "21   22                              Centene   \n",
       "22   23                       The Home Depot   \n",
       "23   24                   Marathon Petroleum   \n",
       "24   25                               Kroger   \n",
       "25   26                          Phillips 66   \n",
       "26   27                           Fannie Mae   \n",
       "27   28             Walgreens Boots Alliance   \n",
       "28   29                        Valero Energy   \n",
       "29   30                       Meta Platforms   \n",
       "30   31               Verizon Communications   \n",
       "31   32                                 AT&T   \n",
       "32   33                              Comcast   \n",
       "33   34                          Wells Fargo   \n",
       "34   35                        Goldman Sachs   \n",
       "35   36                          Freddie Mac   \n",
       "36   37                   Target Corporation   \n",
       "37   38                               Humana   \n",
       "38   39                           State Farm   \n",
       "39   40                                Tesla   \n",
       "40   41                       Morgan Stanley   \n",
       "41   42                    Johnson & Johnson   \n",
       "42   43               Archer Daniels Midland   \n",
       "43   44                              PepsiCo   \n",
       "44   45                United Parcel Service   \n",
       "45   46                                FedEx   \n",
       "46   47              The Walt Disney Company   \n",
       "47   48                    Dell Technologies   \n",
       "48   49                               Lowe's   \n",
       "49   50                     Procter & Gamble   \n",
       "50   51             Energy Transfer Partners   \n",
       "51   52                               Boeing   \n",
       "52   53                           Albertsons   \n",
       "53   54                                Sysco   \n",
       "54   55                      RTX Corporation   \n",
       "55   56                     General Electric   \n",
       "56   57                      Lockheed Martin   \n",
       "57   58                     American Express   \n",
       "58   59                          Caterpillar   \n",
       "59   60                              MetLife   \n",
       "60   61                       HCA Healthcare   \n",
       "61   62              Progressive Corporation   \n",
       "62   63                                  IBM   \n",
       "63   64                           John Deere   \n",
       "64   65                               Nvidia   \n",
       "65   66                         StoneX Group   \n",
       "66   67                          Merck & Co.   \n",
       "67   68                       ConocoPhillips   \n",
       "68   69                               Pfizer   \n",
       "69   70                      Delta Air Lines   \n",
       "70   71                            TD Synnex   \n",
       "71   72                               Publix   \n",
       "72   73                             Allstate   \n",
       "73   74                                Cisco   \n",
       "74   75  Nationwide Mutual Insurance Company   \n",
       "75   76               Charter Communications   \n",
       "76   77                               AbbVie   \n",
       "77   78      New York Life Insurance Company   \n",
       "78   79                                Intel   \n",
       "79   80                                  TJX   \n",
       "80   81                 Prudential Financial   \n",
       "81   82                                   HP   \n",
       "82   83                      United Airlines   \n",
       "83   84               Performance Food Group   \n",
       "84   85                          Tyson Foods   \n",
       "85   86                    American Airlines   \n",
       "86   87                       Liberty Mutual   \n",
       "87   88                                 Nike   \n",
       "88   89                   Oracle Corporation   \n",
       "89   90                  Enterprise Products   \n",
       "90   91                Capital One Financial   \n",
       "91   92         Plains All American Pipeline   \n",
       "92   93             World Kinect Corporation   \n",
       "93   94                                  AIG   \n",
       "94   95                            Coca-Cola   \n",
       "95   96                                 TIAA   \n",
       "96   97                                  CHS   \n",
       "97   98                 Bristol-Myers Squibb   \n",
       "98   99                 Dow Chemical Company   \n",
       "99  100                             Best Buy   \n",
       "\n",
       "                               Industry Revenue (USD millions) Revenue growth  \\\n",
       "0                                Retail                648,125           6.0%   \n",
       "1            Retail and cloud computing                574,785          11.9%   \n",
       "2                  Electronics industry                383,482          -2.8%   \n",
       "3                            Healthcare                371,622          14.6%   \n",
       "4                          Conglomerate                364,482          20.7%   \n",
       "5                            Healthcare                357,776          10.9%   \n",
       "6                    Petroleum industry                344,582         -16.7%   \n",
       "7        Technology and cloud computing                307,394           8.7%   \n",
       "8                                Health                276,711           4.8%   \n",
       "9                    Pharmacy wholesale                262,173           9.9%   \n",
       "10                               Retail                242,290           6.8%   \n",
       "11                   Financial services                239,425          54.7%   \n",
       "12       Technology and cloud computing                211,915           6.9%   \n",
       "13                           Healthcare                205,012          13.0%   \n",
       "14                   Petroleum industry                200,949         -18.4%   \n",
       "15                     Health insurance                195,265           8.2%   \n",
       "16                  Automotive industry                176,191          11.5%   \n",
       "17                           Financials                171,912          49.4%   \n",
       "18                  Automotive industry                171,842           9.6%   \n",
       "19                           Healthcare                171,340           9.4%   \n",
       "20                           Financials                156,820          55.1%   \n",
       "21                           Healthcare                153,999           6.5%   \n",
       "22                               Retail                152,669          -3.0%   \n",
       "23                   Petroleum industry                150,307         -16.5%   \n",
       "24                               Retail                150,039          -3.6%   \n",
       "25                   Petroleum industry                149,890         -14.7%   \n",
       "26                           Financials                141,240          16.2%   \n",
       "27              Pharmaceutical industry                139,081           4.8%   \n",
       "28                   Petroleum industry                139,001         -18.8%   \n",
       "29                           Technology                134,902          15.7%   \n",
       "30                   Telecommunications                133,974          -2.1%   \n",
       "31  Conglomerate and telecommunications                122,428           1.4%   \n",
       "32                   Telecommunications                121,572           0.1%   \n",
       "33                           Financials                115,340          39.2%   \n",
       "34                           Financials                108,418          57.8%   \n",
       "35                           Financials                108,050          24.6%   \n",
       "36                               Retail                107,412          -1.6%   \n",
       "37                     Health insurance                106,374          14.5%   \n",
       "38                           Financials                104,199          16.6%   \n",
       "39                Automotive and energy                 96,773          18.8%   \n",
       "40                           Financials                 96,194          45.9%   \n",
       "41              Pharmaceutical industry                 95,195           0.3%   \n",
       "42                        Food industry                 93,935          -7.5%   \n",
       "43                             Beverage                 91,471           5.9%   \n",
       "44                       Transportation                 90,958          -9.3%   \n",
       "45                       Transportation                 90,155          -3.6%   \n",
       "46                                Media                 88,898           7.5%   \n",
       "47                           Technology                 88,425         -13.6%   \n",
       "48                               Retail                 86,377         -11.0%   \n",
       "49      Consumer products manufacturing                 82,006           2.3%   \n",
       "50                   Petroleum industry                 78,586         -12.6%   \n",
       "51                Aerospace and defense                 77,794          16.8%   \n",
       "52                               Retail                 77,650           8.0%   \n",
       "53                         Food service                 76,325          11.2%   \n",
       "54                         Conglomerate                 68,920           2.8%   \n",
       "55                         Conglomerate                 67,954         -11.2%   \n",
       "56                Aerospace and defense                 67,571           2.4%   \n",
       "57                            Financial                 67,364          21.1%   \n",
       "58                            Machinery                 67,060          12.8%   \n",
       "59                           Financials                 66,905          -4.3%   \n",
       "60                           Healthcare                 64,968           7.9%   \n",
       "61                            Insurance                 62,109          25.2%   \n",
       "62       Technology and cloud computing                 61,860         -16.3%   \n",
       "63            Agriculture manufacturing                 61,251          16.5%   \n",
       "64                           Technology                 60,922         125.9%   \n",
       "65                           Financials                 60,856          -7.8%   \n",
       "66              Pharmaceutical industry                 60,115           1.4%   \n",
       "67                   Petroleum industry                 58,574         -28.7%   \n",
       "68              Pharmaceutical industry                 58,496         -41.7%   \n",
       "69                              Airline                 58,048          14.8%   \n",
       "70                             Infotech                 57,555          -7.7%   \n",
       "71                               Retail                 57,534           4.7%   \n",
       "72                            Insurance                 57,094          11.1%   \n",
       "73       Telecom hardware manufacturing                 56,998          10.6%   \n",
       "74                            Financial                 54,609           6.1%   \n",
       "75                   Telecommunications                 54,607           1.1%   \n",
       "76              Pharmaceutical industry                 54,317          -6.4%   \n",
       "77                            Insurance                 54,317          14.2%   \n",
       "78                           Technology                 54,228         -14.0%   \n",
       "79                               Retail                 49,936           2.9%   \n",
       "80                           Financials                 53,979         -10.1%   \n",
       "81                           Technology                 53,718         -14.5%   \n",
       "82                              Airline                 53,717          19.5%   \n",
       "83                      Food processing                 53,355          13.1%   \n",
       "84                      Food processing                 52,788          -0.8%   \n",
       "85                              Airline                 52,788           7.8%   \n",
       "86                            Insurance                 52,612           5.3%   \n",
       "87                              Apparel                 51,217           9.6%   \n",
       "88                           Technology                 49,954          17.7%   \n",
       "89                   Petroleum industry                 49,715         -14.6%   \n",
       "90                           Financials                 49,484          29.0%   \n",
       "91                   Petroleum industry                 48,712         -15.1%   \n",
       "92                       Energy trading                 47,711         -19.2%   \n",
       "93                            Insurance                 46,802         -17.1%   \n",
       "94                             Beverage                 45,754           6.4%   \n",
       "95                           Financials                 45,735          11.8%   \n",
       "96              Agriculture cooperative                 45,590          -4.6%   \n",
       "97              Pharmaceutical industry                 45,006          -2.5%   \n",
       "98                    Chemical industry                 44,622         -21.6%   \n",
       "99                               Retail                 43,452          -6.1%   \n",
       "\n",
       "    Employees                                Headquarters  \n",
       "0   2,100,000                       Bentonville, Arkansas  \n",
       "1   1,525,000                         Seattle, Washington  \n",
       "2     161,000                       Cupertino, California  \n",
       "3     440,000                       Minnetonka, Minnesota  \n",
       "4     396,500                             Omaha, Nebraska  \n",
       "5     259,500                    Woonsocket, Rhode Island  \n",
       "6      61,500                               Spring, Texas  \n",
       "7     182,502                   Mountain View, California  \n",
       "8      48,000                               Irving, Texas  \n",
       "9      44,000                  Conshohocken, Pennsylvania  \n",
       "10    316,000                        Issaquah, Washington  \n",
       "11    309,926                     New York City, New York  \n",
       "12    221,000                         Redmond, Washington  \n",
       "13     47,520                                Dublin, Ohio  \n",
       "14     45,600                              Houston, Texas  \n",
       "15     71,413                     Bloomfield, Connecticut  \n",
       "16    177,000                          Dearborn, Michigan  \n",
       "17    212,985                   Charlotte, North Carolina  \n",
       "18    163,000                           Detroit, Michigan  \n",
       "19    104,900                       Indianapolis, Indiana  \n",
       "20    237,925                     New York City, New York  \n",
       "21     67,700                         St. Louis, Missouri  \n",
       "22    463,100                            Atlanta, Georgia  \n",
       "23     18,200                               Findlay, Ohio  \n",
       "24    414,000                            Cincinnati, Ohio  \n",
       "25     14,000                              Houston, Texas  \n",
       "26      8,100                            Washington, D.C.  \n",
       "27    268,500                         Deerfield, Illinois  \n",
       "28      9,987                          San Antonio, Texas  \n",
       "29     67,317                      Menlo Park, California  \n",
       "30    105,400                     New York City, New York  \n",
       "31    150,470                               Dallas, Texas  \n",
       "32    186,000                  Philadelphia, Pennsylvania  \n",
       "33    226,000                   San Francisco, California  \n",
       "34     45,300                     New York City, New York  \n",
       "35      8,020                            McLean, Virginia  \n",
       "36    415,000                      Minneapolis, Minnesota  \n",
       "37     67,600                        Louisville, Kentucky  \n",
       "38     65,054                       Bloomington, Illinois  \n",
       "39    140,473                               Austin, Texas  \n",
       "40     80,006                     New York City, New York  \n",
       "41    131,900                   New Brunswick, New Jersey  \n",
       "42     41,008                           Chicago, Illinois  \n",
       "43    318,000                          Purchase, New York  \n",
       "44    382,550                            Atlanta, Georgia  \n",
       "45    446,400                          Memphis, Tennessee  \n",
       "46    199,125                         Burbank, California  \n",
       "47    120,000                           Round Rock, Texas  \n",
       "48    226,000                 Mooresville, North Carolina  \n",
       "49    107,000                            Cincinnati, Ohio  \n",
       "50     13,786                               Dallas, Texas  \n",
       "51    171,000                  Arlington County, Virginia  \n",
       "52    198,650                                Boise, Idaho  \n",
       "53     71,750                              Houston, Texas  \n",
       "54    185,000                  Arlington County, Virginia  \n",
       "55    125,000                       Boston, Massachusetts  \n",
       "56    122,000                          Bethesda, Maryland  \n",
       "57     74,600                     New York City, New York  \n",
       "58    113,200                               Irving, Texas  \n",
       "59     45,000                     New York City, New York  \n",
       "60    265,000                        Nashville, Tennessee  \n",
       "61     61,432                      Mayfield Village, Ohio  \n",
       "62    296,600                            Armonk, New York  \n",
       "63     82,956                            Moline, Illinois  \n",
       "64     29,600                     Santa Clara, California  \n",
       "65      4,137                     New York City, New York  \n",
       "66     71,000                      Kenilworth, New Jersey  \n",
       "67      9,900                              Houston, Texas  \n",
       "68     88,000                     New York City, New York  \n",
       "69    103,000                            Atlanta, Georgia  \n",
       "70     28,000                         Clearwater, Florida  \n",
       "71    253,000                           Lakeland, Florida  \n",
       "72     53,200  Northfield Township, Cook County, Illinois  \n",
       "73     84,900                        San Jose, California  \n",
       "74     24,118                              Columbus, Ohio  \n",
       "75    101,100                       Stamford, Connecticut  \n",
       "76     50,000                        Lake Bluff, Illinois  \n",
       "77     15,384                     New York City, New York  \n",
       "78    124,800                     Santa Clara, California  \n",
       "79    329,000                   Framingham, Massachusetts  \n",
       "80     40,366                          Newark, New Jersey  \n",
       "81     58,000                       Palo Alto, California  \n",
       "82    103,300                           Chicago, Illinois  \n",
       "83     34,825                          Richmond, Virginia  \n",
       "84    139,000                        Springdale, Arkansas  \n",
       "85    132,100                           Fort Worth, Texas  \n",
       "86     45,000                       Boston, Massachusetts  \n",
       "87     83,700                           Beaverton, Oregon  \n",
       "88    164,000                               Austin, Texas  \n",
       "89      7,500                              Houston, Texas  \n",
       "90     51,987                          Richmond, Virginia  \n",
       "91      4,200                              Houston, Texas  \n",
       "92      5,289                              Doral, Florida  \n",
       "93     25,200                     New York City, New York  \n",
       "94     79,100                            Atlanta, Georgia  \n",
       "95     16,023                     New York City, New York  \n",
       "96     10,609              Inver Grove Heights, Minnesota  \n",
       "97     34,100                     New York City, New York  \n",
       "98     35,900                           Midland, Michigan  \n",
       "99     85,000                        Richfield, Minnesota  "
      ]
     },
     "execution_count": 11,
     "metadata": {},
     "output_type": "execute_result"
    }
   ],
   "source": [
    "# To show all rows regardless of count\n",
    "pd.set_option('display.max_rows', None)\n",
    "df"
   ]
  },
  {
   "cell_type": "markdown",
   "id": "1e15c6ec",
   "metadata": {},
   "source": [
    "# To visualize the data you provided using Python with pandas, matplotlib, seaborn, and plotly"
   ]
  },
  {
   "cell_type": "markdown",
   "id": "f4516414",
   "metadata": {},
   "source": [
    "Step 3: If needed, Data Preprocessing:\n",
    "Example:\n",
    "Convert the relevant columns into numeric types where necessary.\n",
    "Handle any missing or special data (like percentages) appropriately."
   ]
  },
  {
   "cell_type": "code",
   "execution_count": 12,
   "id": "cc2873c9",
   "metadata": {},
   "outputs": [],
   "source": [
    "# Convert the 'Revenue (USD millions)' column to numeric (removing commas)\n",
    "df['Revenue (USD millions)'] = df['Revenue (USD millions)'].replace(',', '', regex=True).astype(float)\n",
    "# df"
   ]
  },
  {
   "cell_type": "code",
   "execution_count": 13,
   "id": "ce5e720f",
   "metadata": {},
   "outputs": [
    {
     "data": {
      "text/html": [
       "<div>\n",
       "<style scoped>\n",
       "    .dataframe tbody tr th:only-of-type {\n",
       "        vertical-align: middle;\n",
       "    }\n",
       "\n",
       "    .dataframe tbody tr th {\n",
       "        vertical-align: top;\n",
       "    }\n",
       "\n",
       "    .dataframe thead th {\n",
       "        text-align: right;\n",
       "    }\n",
       "</style>\n",
       "<table border=\"1\" class=\"dataframe\">\n",
       "  <thead>\n",
       "    <tr style=\"text-align: right;\">\n",
       "      <th></th>\n",
       "      <th>Rank</th>\n",
       "      <th>Name</th>\n",
       "      <th>Industry</th>\n",
       "      <th>Revenue (USD millions)</th>\n",
       "      <th>Revenue growth</th>\n",
       "      <th>Employees</th>\n",
       "      <th>Headquarters</th>\n",
       "    </tr>\n",
       "  </thead>\n",
       "  <tbody>\n",
       "    <tr>\n",
       "      <th>0</th>\n",
       "      <td>1</td>\n",
       "      <td>Walmart</td>\n",
       "      <td>Retail</td>\n",
       "      <td>648125.0</td>\n",
       "      <td>6.0%</td>\n",
       "      <td>2,100,000</td>\n",
       "      <td>Bentonville, Arkansas</td>\n",
       "    </tr>\n",
       "    <tr>\n",
       "      <th>1</th>\n",
       "      <td>2</td>\n",
       "      <td>Amazon</td>\n",
       "      <td>Retail and cloud computing</td>\n",
       "      <td>574785.0</td>\n",
       "      <td>11.9%</td>\n",
       "      <td>1,525,000</td>\n",
       "      <td>Seattle, Washington</td>\n",
       "    </tr>\n",
       "    <tr>\n",
       "      <th>2</th>\n",
       "      <td>3</td>\n",
       "      <td>Apple</td>\n",
       "      <td>Electronics industry</td>\n",
       "      <td>383482.0</td>\n",
       "      <td>-2.8%</td>\n",
       "      <td>161,000</td>\n",
       "      <td>Cupertino, California</td>\n",
       "    </tr>\n",
       "    <tr>\n",
       "      <th>3</th>\n",
       "      <td>4</td>\n",
       "      <td>UnitedHealth Group</td>\n",
       "      <td>Healthcare</td>\n",
       "      <td>371622.0</td>\n",
       "      <td>14.6%</td>\n",
       "      <td>440,000</td>\n",
       "      <td>Minnetonka, Minnesota</td>\n",
       "    </tr>\n",
       "    <tr>\n",
       "      <th>4</th>\n",
       "      <td>5</td>\n",
       "      <td>Berkshire Hathaway</td>\n",
       "      <td>Conglomerate</td>\n",
       "      <td>364482.0</td>\n",
       "      <td>20.7%</td>\n",
       "      <td>396,500</td>\n",
       "      <td>Omaha, Nebraska</td>\n",
       "    </tr>\n",
       "    <tr>\n",
       "      <th>5</th>\n",
       "      <td>6</td>\n",
       "      <td>CVS Health</td>\n",
       "      <td>Healthcare</td>\n",
       "      <td>357776.0</td>\n",
       "      <td>10.9%</td>\n",
       "      <td>259,500</td>\n",
       "      <td>Woonsocket, Rhode Island</td>\n",
       "    </tr>\n",
       "    <tr>\n",
       "      <th>6</th>\n",
       "      <td>7</td>\n",
       "      <td>ExxonMobil</td>\n",
       "      <td>Petroleum industry</td>\n",
       "      <td>344582.0</td>\n",
       "      <td>-16.7%</td>\n",
       "      <td>61,500</td>\n",
       "      <td>Spring, Texas</td>\n",
       "    </tr>\n",
       "    <tr>\n",
       "      <th>7</th>\n",
       "      <td>8</td>\n",
       "      <td>Alphabet</td>\n",
       "      <td>Technology and cloud computing</td>\n",
       "      <td>307394.0</td>\n",
       "      <td>8.7%</td>\n",
       "      <td>182,502</td>\n",
       "      <td>Mountain View, California</td>\n",
       "    </tr>\n",
       "    <tr>\n",
       "      <th>8</th>\n",
       "      <td>9</td>\n",
       "      <td>McKesson Corporation</td>\n",
       "      <td>Health</td>\n",
       "      <td>276711.0</td>\n",
       "      <td>4.8%</td>\n",
       "      <td>48,000</td>\n",
       "      <td>Irving, Texas</td>\n",
       "    </tr>\n",
       "    <tr>\n",
       "      <th>9</th>\n",
       "      <td>10</td>\n",
       "      <td>Cencora</td>\n",
       "      <td>Pharmacy wholesale</td>\n",
       "      <td>262173.0</td>\n",
       "      <td>9.9%</td>\n",
       "      <td>44,000</td>\n",
       "      <td>Conshohocken, Pennsylvania</td>\n",
       "    </tr>\n",
       "  </tbody>\n",
       "</table>\n",
       "</div>"
      ],
      "text/plain": [
       "  Rank                  Name                        Industry  \\\n",
       "0    1               Walmart                          Retail   \n",
       "1    2                Amazon      Retail and cloud computing   \n",
       "2    3                 Apple            Electronics industry   \n",
       "3    4    UnitedHealth Group                      Healthcare   \n",
       "4    5    Berkshire Hathaway                    Conglomerate   \n",
       "5    6            CVS Health                      Healthcare   \n",
       "6    7            ExxonMobil              Petroleum industry   \n",
       "7    8              Alphabet  Technology and cloud computing   \n",
       "8    9  McKesson Corporation                          Health   \n",
       "9   10               Cencora              Pharmacy wholesale   \n",
       "\n",
       "   Revenue (USD millions) Revenue growth  Employees  \\\n",
       "0                648125.0           6.0%  2,100,000   \n",
       "1                574785.0          11.9%  1,525,000   \n",
       "2                383482.0          -2.8%    161,000   \n",
       "3                371622.0          14.6%    440,000   \n",
       "4                364482.0          20.7%    396,500   \n",
       "5                357776.0          10.9%    259,500   \n",
       "6                344582.0         -16.7%     61,500   \n",
       "7                307394.0           8.7%    182,502   \n",
       "8                276711.0           4.8%     48,000   \n",
       "9                262173.0           9.9%     44,000   \n",
       "\n",
       "                 Headquarters  \n",
       "0       Bentonville, Arkansas  \n",
       "1         Seattle, Washington  \n",
       "2       Cupertino, California  \n",
       "3       Minnetonka, Minnesota  \n",
       "4             Omaha, Nebraska  \n",
       "5    Woonsocket, Rhode Island  \n",
       "6               Spring, Texas  \n",
       "7   Mountain View, California  \n",
       "8               Irving, Texas  \n",
       "9  Conshohocken, Pennsylvania  "
      ]
     },
     "execution_count": 13,
     "metadata": {},
     "output_type": "execute_result"
    }
   ],
   "source": [
    "# Take top 10 by revenue\n",
    "top10 = df.sort_values('Revenue (USD millions)', ascending=False).head(10)\n",
    "top10"
   ]
  },
  {
   "cell_type": "markdown",
   "id": "3c04bdb9",
   "metadata": {},
   "source": [
    "# 1. Bar plot"
   ]
  },
  {
   "cell_type": "markdown",
   "id": "c74f438f",
   "metadata": {},
   "source": [
    " pandas plot - Bar plot for Top 10 companies by Revenue"
   ]
  },
  {
   "cell_type": "code",
   "execution_count": 14,
   "id": "def7aba1",
   "metadata": {},
   "outputs": [
    {
     "data": {
      "image/png": "[encoded data removed]",
      "text/plain": [
       "<Figure size 640x480 with 1 Axes>"
      ]
     },
     "metadata": {},
     "output_type": "display_data"
    }
   ],
   "source": [
    "pandas_plot = top10.plot(kind='bar', x='Name', y='Revenue (USD millions)', title='Top 10 Companies by Revenue');\n",
    "pandas_plot.set_xlabel('Company');\n",
    "pandas_plot.set_ylabel('Revenue (in USD millions');"
   ]
  },
  {
   "cell_type": "markdown",
   "id": "727b9a7d",
   "metadata": {},
   "source": [
    "Visualization Using Matplotlib: generate a bar plot of revenue\n"
   ]
  },
  {
   "cell_type": "code",
   "execution_count": 15,
   "id": "a57440a7",
   "metadata": {},
   "outputs": [
    {
     "data": {
      "image/png": "[encoded data removed]",
      "text/plain": [
       "<Figure size 1200x600 with 1 Axes>"
      ]
     },
     "metadata": {},
     "output_type": "display_data"
    }
   ],
   "source": [
    "import matplotlib.pyplot as plt\n",
    "\n",
    "# Plotting Revenue vs Company\n",
    "plt.figure(figsize=(12, 6))\n",
    "plt.bar(top10['Name'], top10['Revenue (USD millions)'], color='lightgreen')\n",
    "plt.title('Revenue of Top Companies')\n",
    "plt.xlabel('Company')\n",
    "plt.ylabel('Revenue (in USD millions)')\n",
    "plt.xticks(rotation=45)\n",
    "plt.show()\n"
   ]
  },
  {
   "cell_type": "markdown",
   "id": "37784f4b",
   "metadata": {},
   "source": [
    "Visualization Using Seaborn:\n",
    "Seaborn is great for more complex plots, like box plots or heatmaps.\n",
    "\n",
    "Example for Revenue Growth:"
   ]
  },
  {
   "cell_type": "code",
   "execution_count": 16,
   "id": "9d556bf2",
   "metadata": {},
   "outputs": [
    {
     "data": {
      "image/png": "[encoded data removed]",
      "text/plain": [
       "<Figure size 1200x600 with 1 Axes>"
      ]
     },
     "metadata": {},
     "output_type": "display_data"
    }
   ],
   "source": [
    "import seaborn as sns\n",
    "\n",
    "# Convert Revenue Growth to numeric, stripping '%' and converting to float\n",
    "df['Revenue growth'] = df['Revenue growth'].replace({'%': ''}, regex=True).astype(float)\n",
    "\n",
    "plt.figure(figsize=(12, 6))\n",
    "sns.barplot(x='Name', y='Revenue growth', data=top10)\n",
    "plt.xticks(rotation=45)\n",
    "plt.title('Revenue Growth of Top Companies')\n",
    "plt.xlabel('Company')\n",
    "plt.ylabel('Revenue Growth (%)')\n",
    "plt.gca().invert_yaxis()  # Only use if you *intentionally* want reverse order\n",
    "plt.show()\n"
   ]
  },
  {
   "cell_type": "markdown",
   "id": "54415f55",
   "metadata": {},
   "source": [
    "# 2. Line Plot"
   ]
  },
  {
   "cell_type": "code",
   "execution_count": 17,
   "id": "09ca9c1f",
   "metadata": {},
   "outputs": [
    {
     "data": {
      "image/png": "[encoded data removed]",
      "text/plain": [
       "<Figure size 1000x600 with 1 Axes>"
      ]
     },
     "metadata": {},
     "output_type": "display_data"
    }
   ],
   "source": [
    "\n",
    "plt.figure(figsize=(10,6))\n",
    "sns.lineplot(data=top10, x='Rank', y='Revenue growth', marker='o')\n",
    "plt.title('Revenue Growth by Rank')\n",
    "plt.xlabel('Rank')\n",
    "plt.ylabel('Revenue growth')\n",
    "plt.grid(True)\n",
    "plt.tight_layout()\n",
    "plt.show()"
   ]
  },
  {
   "cell_type": "code",
   "execution_count": 18,
   "id": "5cf1c069",
   "metadata": {},
   "outputs": [
    {
     "data": {
      "image/png": "[encoded data removed]",
      "text/plain": [
       "<Figure size 1200x600 with 1 Axes>"
      ]
     },
     "metadata": {},
     "output_type": "display_data"
    }
   ],
   "source": [
    "import matplotlib.pyplot as plt\n",
    "import seaborn as sns\n",
    "import matplotlib.ticker as ticker\n",
    "\n",
    "# Sort and plot\n",
    "plt.figure(figsize=(12, 6))\n",
    "sns.lineplot(data=df.sort_values('Rank'), x='Rank', y='Revenue growth', marker='o')\n",
    "\n",
    "plt.title('Revenue Growth by Rank')\n",
    "plt.xlabel('Rank')\n",
    "plt.ylabel('Revenue growth')\n",
    "\n",
    "# Format x-axis:\n",
    "ax = plt.gca()\n",
    "ax.xaxis.set_major_locator(ticker.MaxNLocator(nbins=15, integer=True))  # Reduce number of ticks\n",
    "plt.xticks(rotation=45)  # Rotate if still overlapping\n",
    "\n",
    "plt.grid(True)\n",
    "plt.tight_layout()\n",
    "plt.show()\n"
   ]
  },
  {
   "cell_type": "markdown",
   "id": "40f916d4",
   "metadata": {},
   "source": [
    "# 3. Pie Chart for Industry Breakdown: To visualize the distribution of industries:"
   ]
  },
  {
   "cell_type": "code",
   "execution_count": 19,
   "id": "ed83b708",
   "metadata": {},
   "outputs": [
    {
     "data": {
      "image/png": "[encoded data removed]",
      "text/plain": [
       "<Figure size 800x800 with 1 Axes>"
      ]
     },
     "metadata": {},
     "output_type": "display_data"
    }
   ],
   "source": [
    "# Plotting Industry Breakdown with Pie Chart\n",
    "industry_counts = top10['Industry'].value_counts()\n",
    "\n",
    "plt.figure(figsize=(8, 8))\n",
    "plt.pie(industry_counts, labels=industry_counts.index, autopct='%1.1f%%', startangle=90)\n",
    "plt.title('Industry Breakdown of Top Companies')\n",
    "plt.show()\n"
   ]
  },
  {
   "cell_type": "markdown",
   "id": "122a4549",
   "metadata": {},
   "source": [
    "# 4.Histogram for Revenue:"
   ]
  },
  {
   "cell_type": "code",
   "execution_count": 20,
   "id": "fbe76774",
   "metadata": {},
   "outputs": [
    {
     "data": {
      "image/png": "[encoded data removed]",
      "text/plain": [
       "<Figure size 1000x600 with 1 Axes>"
      ]
     },
     "metadata": {},
     "output_type": "display_data"
    }
   ],
   "source": [
    "plt.figure(figsize=(10, 6))\n",
    "plt.hist(df['Revenue (USD millions)'], bins=20, color='purple', edgecolor='black')\n",
    "plt.title('Histogram of Company Revenues')\n",
    "plt.xlabel('Revenue (in USD millions)')\n",
    "plt.ylabel('Frequency')\n",
    "plt.show()"
   ]
  },
  {
   "cell_type": "markdown",
   "id": "64605aba",
   "metadata": {},
   "source": [
    "# 5. Box Plot – Revenue Growth by Industry (Seaborn)\n",
    "To check for outliers and the spread of the revenue growth data"
   ]
  },
  {
   "cell_type": "code",
   "execution_count": 21,
   "id": "1266a6a6",
   "metadata": {},
   "outputs": [
    {
     "data": {
      "image/png": "[encoded data removed]",
      "text/plain": [
       "<Figure size 1000x600 with 1 Axes>"
      ]
     },
     "metadata": {},
     "output_type": "display_data"
    }
   ],
   "source": [
    "plt.figure(figsize=(10, 6))\n",
    "sns.boxplot(x='Industry', y='Revenue growth', data=df)\n",
    "plt.title('Box Plot of Revenue Growth by Industry')\n",
    "plt.xticks(rotation=90)\n",
    "plt.show()\n"
   ]
  },
  {
   "cell_type": "markdown",
   "id": "23a7b5b1",
   "metadata": {},
   "source": [
    "# 6. scatter plot using Plotly Express - showing Revenue vs Employees."
   ]
  },
  {
   "cell_type": "code",
   "execution_count": 22,
   "id": "1add88e7",
   "metadata": {},
   "outputs": [
    {
     "data": {
      "application/vnd.plotly.v1+json": {
       "config": {
        "plotlyServerURL": "https://plot.ly"
       },
       "data": [
        {
         "hovertemplate": "Revenue (USD millions)=%{x}<br>Employees=%{y}<br>Name=%{text}<extra></extra>",
         "legendgroup": "",
         "marker": {
          "color": "#636efa",
          "line": {
           "color": "DarkSlateGrey",
           "width": 2
          },
          "opacity": 0.8,
          "size": 12,
          "symbol": "circle"
         },
         "mode": "markers+text",
         "name": "",
         "orientation": "h",
         "showlegend": false,
         "text": [
          "Walmart",
          "Amazon",
          "Apple",
          "UnitedHealth Group",
          "Berkshire Hathaway",
          "CVS Health",
          "ExxonMobil",
          "Alphabet",
          "McKesson Corporation",
          "Cencora"
         ],
         "type": "scatter",
         "x": {
          "bdata": "AAAAAHrHI0EAAAAAgoohQQAAAADoZxdBAAAAAJiuFkEAAAAACD8WQQAAAABA1hVBAAAAABgIFUEAAAAACMMSQQAAAACc4xBBAAAAAHQAEEE=",
          "dtype": "f8"
         },
         "xaxis": "x",
         "y": [
          "2,100,000",
          "1,525,000",
          "161,000",
          "440,000",
          "396,500",
          "259,500",
          "61,500",
          "182,502",
          "48,000",
          "44,000"
         ],
         "yaxis": "y"
        }
       ],
       "layout": {
        "legend": {
         "tracegroupgap": 0
        },
        "template": {
         "data": {
          "bar": [
           {
            "error_x": {
             "color": "#2a3f5f"
            },
            "error_y": {
             "color": "#2a3f5f"
            },
            "marker": {
             "line": {
              "color": "#E5ECF6",
              "width": 0.5
             },
             "pattern": {
              "fillmode": "overlay",
              "size": 10,
              "solidity": 0.2
             }
            },
            "type": "bar"
           }
          ],
          "barpolar": [
           {
            "marker": {
             "line": {
              "color": "#E5ECF6",
              "width": 0.5
             },
             "pattern": {
              "fillmode": "overlay",
              "size": 10,
              "solidity": 0.2
             }
            },
            "type": "barpolar"
           }
          ],
          "carpet": [
           {
            "aaxis": {
             "endlinecolor": "#2a3f5f",
             "gridcolor": "white",
             "linecolor": "white",
             "minorgridcolor": "white",
             "startlinecolor": "#2a3f5f"
            },
            "baxis": {
             "endlinecolor": "#2a3f5f",
             "gridcolor": "white",
             "linecolor": "white",
             "minorgridcolor": "white",
             "startlinecolor": "#2a3f5f"
            },
            "type": "carpet"
           }
          ],
          "choropleth": [
           {
            "colorbar": {
             "outlinewidth": 0,
             "ticks": ""
            },
            "type": "choropleth"
           }
          ],
          "contour": [
           {
            "colorbar": {
             "outlinewidth": 0,
             "ticks": ""
            },
            "colorscale": [
             [
              0,
              "#0d0887"
             ],
             [
              0.1111111111111111,
              "#46039f"
             ],
             [
              0.2222222222222222,
              "#7201a8"
             ],
             [
              0.3333333333333333,
              "#9c179e"
             ],
             [
              0.4444444444444444,
              "#bd3786"
             ],
             [
              0.5555555555555556,
              "#d8576b"
             ],
             [
              0.6666666666666666,
              "#ed7953"
             ],
             [
              0.7777777777777778,
              "#fb9f3a"
             ],
             [
              0.8888888888888888,
              "#fdca26"
             ],
             [
              1,
              "#f0f921"
             ]
            ],
            "type": "contour"
           }
          ],
          "contourcarpet": [
           {
            "colorbar": {
             "outlinewidth": 0,
             "ticks": ""
            },
            "type": "contourcarpet"
           }
          ],
          "heatmap": [
           {
            "colorbar": {
             "outlinewidth": 0,
             "ticks": ""
            },
            "colorscale": [
             [
              0,
              "#0d0887"
             ],
             [
              0.1111111111111111,
              "#46039f"
             ],
             [
              0.2222222222222222,
              "#7201a8"
             ],
             [
              0.3333333333333333,
              "#9c179e"
             ],
             [
              0.4444444444444444,
              "#bd3786"
             ],
             [
              0.5555555555555556,
              "#d8576b"
             ],
             [
              0.6666666666666666,
              "#ed7953"
             ],
             [
              0.7777777777777778,
              "#fb9f3a"
             ],
             [
              0.8888888888888888,
              "#fdca26"
             ],
             [
              1,
              "#f0f921"
             ]
            ],
            "type": "heatmap"
           }
          ],
          "histogram": [
           {
            "marker": {
             "pattern": {
              "fillmode": "overlay",
              "size": 10,
              "solidity": 0.2
             }
            },
            "type": "histogram"
           }
          ],
          "histogram2d": [
           {
            "colorbar": {
             "outlinewidth": 0,
             "ticks": ""
            },
            "colorscale": [
             [
              0,
              "#0d0887"
             ],
             [
              0.1111111111111111,
              "#46039f"
             ],
             [
              0.2222222222222222,
              "#7201a8"
             ],
             [
              0.3333333333333333,
              "#9c179e"
             ],
             [
              0.4444444444444444,
              "#bd3786"
             ],
             [
              0.5555555555555556,
              "#d8576b"
             ],
             [
              0.6666666666666666,
              "#ed7953"
             ],
             [
              0.7777777777777778,
              "#fb9f3a"
             ],
             [
              0.8888888888888888,
              "#fdca26"
             ],
             [
              1,
              "#f0f921"
             ]
            ],
            "type": "histogram2d"
           }
          ],
          "histogram2dcontour": [
           {
            "colorbar": {
             "outlinewidth": 0,
             "ticks": ""
            },
            "colorscale": [
             [
              0,
              "#0d0887"
             ],
             [
              0.1111111111111111,
              "#46039f"
             ],
             [
              0.2222222222222222,
              "#7201a8"
             ],
             [
              0.3333333333333333,
              "#9c179e"
             ],
             [
              0.4444444444444444,
              "#bd3786"
             ],
             [
              0.5555555555555556,
              "#d8576b"
             ],
             [
              0.6666666666666666,
              "#ed7953"
             ],
             [
              0.7777777777777778,
              "#fb9f3a"
             ],
             [
              0.8888888888888888,
              "#fdca26"
             ],
             [
              1,
              "#f0f921"
             ]
            ],
            "type": "histogram2dcontour"
           }
          ],
          "mesh3d": [
           {
            "colorbar": {
             "outlinewidth": 0,
             "ticks": ""
            },
            "type": "mesh3d"
           }
          ],
          "parcoords": [
           {
            "line": {
             "colorbar": {
              "outlinewidth": 0,
              "ticks": ""
             }
            },
            "type": "parcoords"
           }
          ],
          "pie": [
           {
            "automargin": true,
            "type": "pie"
           }
          ],
          "scatter": [
           {
            "fillpattern": {
             "fillmode": "overlay",
             "size": 10,
             "solidity": 0.2
            },
            "type": "scatter"
           }
          ],
          "scatter3d": [
           {
            "line": {
             "colorbar": {
              "outlinewidth": 0,
              "ticks": ""
             }
            },
            "marker": {
             "colorbar": {
              "outlinewidth": 0,
              "ticks": ""
             }
            },
            "type": "scatter3d"
           }
          ],
          "scattercarpet": [
           {
            "marker": {
             "colorbar": {
              "outlinewidth": 0,
              "ticks": ""
             }
            },
            "type": "scattercarpet"
           }
          ],
          "scattergeo": [
           {
            "marker": {
             "colorbar": {
              "outlinewidth": 0,
              "ticks": ""
             }
            },
            "type": "scattergeo"
           }
          ],
          "scattergl": [
           {
            "marker": {
             "colorbar": {
              "outlinewidth": 0,
              "ticks": ""
             }
            },
            "type": "scattergl"
           }
          ],
          "scattermap": [
           {
            "marker": {
             "colorbar": {
              "outlinewidth": 0,
              "ticks": ""
             }
            },
            "type": "scattermap"
           }
          ],
          "scattermapbox": [
           {
            "marker": {
             "colorbar": {
              "outlinewidth": 0,
              "ticks": ""
             }
            },
            "type": "scattermapbox"
           }
          ],
          "scatterpolar": [
           {
            "marker": {
             "colorbar": {
              "outlinewidth": 0,
              "ticks": ""
             }
            },
            "type": "scatterpolar"
           }
          ],
          "scatterpolargl": [
           {
            "marker": {
             "colorbar": {
              "outlinewidth": 0,
              "ticks": ""
             }
            },
            "type": "scatterpolargl"
           }
          ],
          "scatterternary": [
           {
            "marker": {
             "colorbar": {
              "outlinewidth": 0,
              "ticks": ""
             }
            },
            "type": "scatterternary"
           }
          ],
          "surface": [
           {
            "colorbar": {
             "outlinewidth": 0,
             "ticks": ""
            },
            "colorscale": [
             [
              0,
              "#0d0887"
             ],
             [
              0.1111111111111111,
              "#46039f"
             ],
             [
              0.2222222222222222,
              "#7201a8"
             ],
             [
              0.3333333333333333,
              "#9c179e"
             ],
             [
              0.4444444444444444,
              "#bd3786"
             ],
             [
              0.5555555555555556,
              "#d8576b"
             ],
             [
              0.6666666666666666,
              "#ed7953"
             ],
             [
              0.7777777777777778,
              "#fb9f3a"
             ],
             [
              0.8888888888888888,
              "#fdca26"
             ],
             [
              1,
              "#f0f921"
             ]
            ],
            "type": "surface"
           }
          ],
          "table": [
           {
            "cells": {
             "fill": {
              "color": "#EBF0F8"
             },
             "line": {
              "color": "white"
             }
            },
            "header": {
             "fill": {
              "color": "#C8D4E3"
             },
             "line": {
              "color": "white"
             }
            },
            "type": "table"
           }
          ]
         },
         "layout": {
          "annotationdefaults": {
           "arrowcolor": "#2a3f5f",
           "arrowhead": 0,
           "arrowwidth": 1
          },
          "autotypenumbers": "strict",
          "coloraxis": {
           "colorbar": {
            "outlinewidth": 0,
            "ticks": ""
           }
          },
          "colorscale": {
           "diverging": [
            [
             0,
             "#8e0152"
            ],
            [
             0.1,
             "#c51b7d"
            ],
            [
             0.2,
             "#de77ae"
            ],
            [
             0.3,
             "#f1b6da"
            ],
            [
             0.4,
             "#fde0ef"
            ],
            [
             0.5,
             "#f7f7f7"
            ],
            [
             0.6,
             "#e6f5d0"
            ],
            [
             0.7,
             "#b8e186"
            ],
            [
             0.8,
             "#7fbc41"
            ],
            [
             0.9,
             "#4d9221"
            ],
            [
             1,
             "#276419"
            ]
           ],
           "sequential": [
            [
             0,
             "#0d0887"
            ],
            [
             0.1111111111111111,
             "#46039f"
            ],
            [
             0.2222222222222222,
             "#7201a8"
            ],
            [
             0.3333333333333333,
             "#9c179e"
            ],
            [
             0.4444444444444444,
             "#bd3786"
            ],
            [
             0.5555555555555556,
             "#d8576b"
            ],
            [
             0.6666666666666666,
             "#ed7953"
            ],
            [
             0.7777777777777778,
             "#fb9f3a"
            ],
            [
             0.8888888888888888,
             "#fdca26"
            ],
            [
             1,
             "#f0f921"
            ]
           ],
           "sequentialminus": [
            [
             0,
             "#0d0887"
            ],
            [
             0.1111111111111111,
             "#46039f"
            ],
            [
             0.2222222222222222,
             "#7201a8"
            ],
            [
             0.3333333333333333,
             "#9c179e"
            ],
            [
             0.4444444444444444,
             "#bd3786"
            ],
            [
             0.5555555555555556,
             "#d8576b"
            ],
            [
             0.6666666666666666,
             "#ed7953"
            ],
            [
             0.7777777777777778,
             "#fb9f3a"
            ],
            [
             0.8888888888888888,
             "#fdca26"
            ],
            [
             1,
             "#f0f921"
            ]
           ]
          },
          "colorway": [
           "#636efa",
           "#EF553B",
           "#00cc96",
           "#ab63fa",
           "#FFA15A",
           "#19d3f3",
           "#FF6692",
           "#B6E880",
           "#FF97FF",
           "#FECB52"
          ],
          "font": {
           "color": "#2a3f5f"
          },
          "geo": {
           "bgcolor": "white",
           "lakecolor": "white",
           "landcolor": "#E5ECF6",
           "showlakes": true,
           "showland": true,
           "subunitcolor": "white"
          },
          "hoverlabel": {
           "align": "left"
          },
          "hovermode": "closest",
          "mapbox": {
           "style": "light"
          },
          "paper_bgcolor": "white",
          "plot_bgcolor": "#E5ECF6",
          "polar": {
           "angularaxis": {
            "gridcolor": "white",
            "linecolor": "white",
            "ticks": ""
           },
           "bgcolor": "#E5ECF6",
           "radialaxis": {
            "gridcolor": "white",
            "linecolor": "white",
            "ticks": ""
           }
          },
          "scene": {
           "xaxis": {
            "backgroundcolor": "#E5ECF6",
            "gridcolor": "white",
            "gridwidth": 2,
            "linecolor": "white",
            "showbackground": true,
            "ticks": "",
            "zerolinecolor": "white"
           },
           "yaxis": {
            "backgroundcolor": "#E5ECF6",
            "gridcolor": "white",
            "gridwidth": 2,
            "linecolor": "white",
            "showbackground": true,
            "ticks": "",
            "zerolinecolor": "white"
           },
           "zaxis": {
            "backgroundcolor": "#E5ECF6",
            "gridcolor": "white",
            "gridwidth": 2,
            "linecolor": "white",
            "showbackground": true,
            "ticks": "",
            "zerolinecolor": "white"
           }
          },
          "shapedefaults": {
           "line": {
            "color": "#2a3f5f"
           }
          },
          "ternary": {
           "aaxis": {
            "gridcolor": "white",
            "linecolor": "white",
            "ticks": ""
           },
           "baxis": {
            "gridcolor": "white",
            "linecolor": "white",
            "ticks": ""
           },
           "bgcolor": "#E5ECF6",
           "caxis": {
            "gridcolor": "white",
            "linecolor": "white",
            "ticks": ""
           }
          },
          "title": {
           "x": 0.05
          },
          "xaxis": {
           "automargin": true,
           "gridcolor": "white",
           "linecolor": "white",
           "ticks": "",
           "title": {
            "standoff": 15
           },
           "zerolinecolor": "white",
           "zerolinewidth": 2
          },
          "yaxis": {
           "automargin": true,
           "gridcolor": "white",
           "linecolor": "white",
           "ticks": "",
           "title": {
            "standoff": 15
           },
           "zerolinecolor": "white",
           "zerolinewidth": 2
          }
         }
        },
        "title": {
         "text": "Revenue vs Employees of Top Companies"
        },
        "xaxis": {
         "anchor": "y",
         "domain": [
          0,
          1
         ],
         "title": {
          "text": "Revenue (USD millions)"
         }
        },
        "yaxis": {
         "anchor": "x",
         "domain": [
          0,
          1
         ],
         "title": {
          "text": "Employees"
         }
        }
       }
      }
     },
     "metadata": {},
     "output_type": "display_data"
    }
   ],
   "source": [
    "import plotly.express as px\n",
    "\n",
    "# Plotly Scatter Plot for Revenue vs Employees\n",
    "fig = px.scatter(top10, x='Revenue (USD millions)', y='Employees', text='Name', title='Revenue vs Employees of Top Companies')\n",
    "fig.update_traces(marker=dict(size=12, opacity=0.8, line=dict(width=2, color='DarkSlateGrey')),\n",
    "                  selector=dict(mode='markers+text'))\n",
    "fig.show()\n"
   ]
  },
  {
   "cell_type": "markdown",
   "id": "17c3ddf6",
   "metadata": {},
   "source": [
    "# 7.Bubble Chart – Revenue vs Employees with Bubble Size by Growth (Plotly)"
   ]
  },
  {
   "cell_type": "code",
   "execution_count": 23,
   "id": "5c300469",
   "metadata": {},
   "outputs": [
    {
     "data": {
      "application/vnd.plotly.v1+json": {
       "config": {
        "plotlyServerURL": "https://plot.ly"
       },
       "data": [
        {
         "hovertemplate": "<b>%{hovertext}</b><br><br>Industry=Retail<br>Revenue (USD millions)=%{x}<br>Employees=%{y}<br>Revenue growth (abs)=%{marker.size}<extra></extra>",
         "hovertext": [
          "Walmart",
          "Costco",
          "The Home Depot",
          "Kroger",
          "Target Corporation",
          "Lowe's",
          "Albertsons",
          "Publix",
          "TJX",
          "Best Buy"
         ],
         "legendgroup": "Retail",
         "marker": {
          "color": "#636efa",
          "size": {
           "bdata": "AAAAAAAAGEAzMzMzMzMbQAAAAAAAAAhAzczMzMzMDECamZmZmZn5PwAAAAAAACZAAAAAAAAAIEDNzMzMzMwSQDMzMzMzMwdAZmZmZmZmGEA=",
           "dtype": "f8"
          },
          "sizemode": "area",
          "sizeref": 0.31475000000000003,
          "symbol": "circle"
         },
         "mode": "markers",
         "name": "Retail",
         "orientation": "h",
         "showlegend": true,
         "type": "scatter",
         "x": {
          "bdata": "AAAAAHrHI0EAAAAAkJMNQQAAAADoogJBAAAAALhQAkEAAAAAQDn6QAAAAACQFvVAAAAAACD18kAAAAAAwBfsQAAAAAAAYuhAAAAAAIA35UA=",
          "dtype": "f8"
         },
         "xaxis": "x",
         "y": [
          "2,100,000",
          "316,000",
          "463,100",
          "414,000",
          "415,000",
          "226,000",
          "198,650",
          "253,000",
          "329,000",
          "85,000"
         ],
         "yaxis": "y"
        },
        {
         "hovertemplate": "<b>%{hovertext}</b><br><br>Industry=Retail and cloud computing<br>Revenue (USD millions)=%{x}<br>Employees=%{y}<br>Revenue growth (abs)=%{marker.size}<extra></extra>",
         "hovertext": [
          "Amazon"
         ],
         "legendgroup": "Retail and cloud computing",
         "marker": {
          "color": "#EF553B",
          "size": {
           "bdata": "zczMzMzMJ0A=",
           "dtype": "f8"
          },
          "sizemode": "area",
          "sizeref": 0.31475000000000003,
          "symbol": "circle"
         },
         "mode": "markers",
         "name": "Retail and cloud computing",
         "orientation": "h",
         "showlegend": true,
         "type": "scatter",
         "x": {
          "bdata": "AAAAAIKKIUE=",
          "dtype": "f8"
         },
         "xaxis": "x",
         "y": [
          "1,525,000"
         ],
         "yaxis": "y"
        },
        {
         "hovertemplate": "<b>%{hovertext}</b><br><br>Industry=Electronics industry<br>Revenue (USD millions)=%{x}<br>Employees=%{y}<br>Revenue growth (abs)=%{marker.size}<extra></extra>",
         "hovertext": [
          "Apple"
         ],
         "legendgroup": "Electronics industry",
         "marker": {
          "color": "#00cc96",
          "size": {
           "bdata": "ZmZmZmZmBkA=",
           "dtype": "f8"
          },
          "sizemode": "area",
          "sizeref": 0.31475000000000003,
          "symbol": "circle"
         },
         "mode": "markers",
         "name": "Electronics industry",
         "orientation": "h",
         "showlegend": true,
         "type": "scatter",
         "x": {
          "bdata": "AAAAAOhnF0E=",
          "dtype": "f8"
         },
         "xaxis": "x",
         "y": [
          "161,000"
         ],
         "yaxis": "y"
        },
        {
         "hovertemplate": "<b>%{hovertext}</b><br><br>Industry=Healthcare<br>Revenue (USD millions)=%{x}<br>Employees=%{y}<br>Revenue growth (abs)=%{marker.size}<extra></extra>",
         "hovertext": [
          "UnitedHealth Group",
          "CVS Health",
          "Cardinal Health",
          "Elevance Health",
          "Centene",
          "HCA Healthcare"
         ],
         "legendgroup": "Healthcare",
         "marker": {
          "color": "#ab63fa",
          "size": {
           "bdata": "MzMzMzMzLUDNzMzMzMwlQAAAAAAAACpAzczMzMzMIkAAAAAAAAAaQJqZmZmZmR9A",
           "dtype": "f8"
          },
          "sizemode": "area",
          "sizeref": 0.31475000000000003,
          "symbol": "circle"
         },
         "mode": "markers",
         "name": "Healthcare",
         "orientation": "h",
         "showlegend": true,
         "type": "scatter",
         "x": {
          "bdata": "AAAAAJiuFkEAAAAAQNYVQQAAAACgBglBAAAAAGDqBEEAAAAAeMwCQQAAAAAAue9A",
          "dtype": "f8"
         },
         "xaxis": "x",
         "y": [
          "440,000",
          "259,500",
          "47,520",
          "104,900",
          "67,700",
          "265,000"
         ],
         "yaxis": "y"
        },
        {
         "hovertemplate": "<b>%{hovertext}</b><br><br>Industry=Conglomerate<br>Revenue (USD millions)=%{x}<br>Employees=%{y}<br>Revenue growth (abs)=%{marker.size}<extra></extra>",
         "hovertext": [
          "Berkshire Hathaway",
          "RTX Corporation",
          "General Electric"
         ],
         "legendgroup": "Conglomerate",
         "marker": {
          "color": "#FFA15A",
          "size": {
           "bdata": "MzMzMzOzNEBmZmZmZmYGQGZmZmZmZiZA",
           "dtype": "f8"
          },
          "sizemode": "area",
          "sizeref": 0.31475000000000003,
          "symbol": "circle"
         },
         "mode": "markers",
         "name": "Conglomerate",
         "orientation": "h",
         "showlegend": true,
         "type": "scatter",
         "x": {
          "bdata": "AAAAAAg/FkEAAAAAgNPwQAAAAAAgl/BA",
          "dtype": "f8"
         },
         "xaxis": "x",
         "y": [
          "396,500",
          "185,000",
          "125,000"
         ],
         "yaxis": "y"
        },
        {
         "hovertemplate": "<b>%{hovertext}</b><br><br>Industry=Petroleum industry<br>Revenue (USD millions)=%{x}<br>Employees=%{y}<br>Revenue growth (abs)=%{marker.size}<extra></extra>",
         "hovertext": [
          "ExxonMobil",
          "Chevron Corporation",
          "Marathon Petroleum",
          "Phillips 66",
          "Valero Energy",
          "Energy Transfer Partners",
          "ConocoPhillips",
          "Enterprise Products",
          "Plains All American Pipeline"
         ],
         "legendgroup": "Petroleum industry",
         "marker": {
          "color": "#19d3f3",
          "size": {
           "bdata": "MzMzMzOzMEBmZmZmZmYyQAAAAAAAgDBAZmZmZmZmLUDNzMzMzMwyQDMzMzMzMylAMzMzMzOzPEAzMzMzMzMtQDMzMzMzMy5A",
           "dtype": "f8"
          },
          "sizemode": "area",
          "sizeref": 0.31475000000000003,
          "symbol": "circle"
         },
         "mode": "markers",
         "name": "Petroleum industry",
         "orientation": "h",
         "showlegend": true,
         "type": "scatter",
         "x": {
          "bdata": "AAAAABgIFUEAAAAAqIcIQQAAAAAYWQJBAAAAABBMAkEAAAAAyPcAQQAAAACgL/NAAAAAAMCZ7EAAAAAAYEboQAAAAAAAyedA",
          "dtype": "f8"
         },
         "xaxis": "x",
         "y": [
          "61,500",
          "45,600",
          "18,200",
          "14,000",
          "9,987",
          "13,786",
          "9,900",
          "7,500",
          "4,200"
         ],
         "yaxis": "y"
        },
        {
         "hovertemplate": "<b>%{hovertext}</b><br><br>Industry=Technology and cloud computing<br>Revenue (USD millions)=%{x}<br>Employees=%{y}<br>Revenue growth (abs)=%{marker.size}<extra></extra>",
         "hovertext": [
          "Alphabet",
          "Microsoft",
          "IBM"
         ],
         "legendgroup": "Technology and cloud computing",
         "marker": {
          "color": "#FF6692",
          "size": {
           "bdata": "ZmZmZmZmIUCamZmZmZkbQM3MzMzMTDBA",
           "dtype": "f8"
          },
          "sizemode": "area",
          "sizeref": 0.31475000000000003,
          "symbol": "circle"
         },
         "mode": "markers",
         "name": "Technology and cloud computing",
         "orientation": "h",
         "showlegend": true,
         "type": "scatter",
         "x": {
          "bdata": "AAAAAAjDEkEAAAAAWN4JQQAAAACANO5A",
          "dtype": "f8"
         },
         "xaxis": "x",
         "y": [
          "182,502",
          "221,000",
          "296,600"
         ],
         "yaxis": "y"
        },
        {
         "hovertemplate": "<b>%{hovertext}</b><br><br>Industry=Health<br>Revenue (USD millions)=%{x}<br>Employees=%{y}<br>Revenue growth (abs)=%{marker.size}<extra></extra>",
         "hovertext": [
          "McKesson Corporation"
         ],
         "legendgroup": "Health",
         "marker": {
          "color": "#B6E880",
          "size": {
           "bdata": "MzMzMzMzE0A=",
           "dtype": "f8"
          },
          "sizemode": "area",
          "sizeref": 0.31475000000000003,
          "symbol": "circle"
         },
         "mode": "markers",
         "name": "Health",
         "orientation": "h",
         "showlegend": true,
         "type": "scatter",
         "x": {
          "bdata": "AAAAAJzjEEE=",
          "dtype": "f8"
         },
         "xaxis": "x",
         "y": [
          "48,000"
         ],
         "yaxis": "y"
        },
        {
         "hovertemplate": "<b>%{hovertext}</b><br><br>Industry=Pharmacy wholesale<br>Revenue (USD millions)=%{x}<br>Employees=%{y}<br>Revenue growth (abs)=%{marker.size}<extra></extra>",
         "hovertext": [
          "Cencora"
         ],
         "legendgroup": "Pharmacy wholesale",
         "marker": {
          "color": "#FF97FF",
          "size": {
           "bdata": "zczMzMzMI0A=",
           "dtype": "f8"
          },
          "sizemode": "area",
          "sizeref": 0.31475000000000003,
          "symbol": "circle"
         },
         "mode": "markers",
         "name": "Pharmacy wholesale",
         "orientation": "h",
         "showlegend": true,
         "type": "scatter",
         "x": {
          "bdata": "AAAAAHQAEEE=",
          "dtype": "f8"
         },
         "xaxis": "x",
         "y": [
          "44,000"
         ],
         "yaxis": "y"
        },
        {
         "hovertemplate": "<b>%{hovertext}</b><br><br>Industry=Financial services<br>Revenue (USD millions)=%{x}<br>Employees=%{y}<br>Revenue growth (abs)=%{marker.size}<extra></extra>",
         "hovertext": [
          "JPMorgan Chase"
         ],
         "legendgroup": "Financial services",
         "marker": {
          "color": "#FECB52",
          "size": {
           "bdata": "mpmZmZlZS0A=",
           "dtype": "f8"
          },
          "sizemode": "area",
          "sizeref": 0.31475000000000003,
          "symbol": "circle"
         },
         "mode": "markers",
         "name": "Financial services",
         "orientation": "h",
         "showlegend": true,
         "type": "scatter",
         "x": {
          "bdata": "AAAAAAg6DUE=",
          "dtype": "f8"
         },
         "xaxis": "x",
         "y": [
          "309,926"
         ],
         "yaxis": "y"
        },
        {
         "hovertemplate": "<b>%{hovertext}</b><br><br>Industry=Health insurance<br>Revenue (USD millions)=%{x}<br>Employees=%{y}<br>Revenue growth (abs)=%{marker.size}<extra></extra>",
         "hovertext": [
          "Cigna",
          "Humana"
         ],
         "legendgroup": "Health insurance",
         "marker": {
          "color": "#636efa",
          "size": {
           "bdata": "ZmZmZmZmIEAAAAAAAAAtQA==",
           "dtype": "f8"
          },
          "sizemode": "area",
          "sizeref": 0.31475000000000003,
          "symbol": "circle"
         },
         "mode": "markers",
         "name": "Health insurance",
         "orientation": "h",
         "showlegend": true,
         "type": "scatter",
         "x": {
          "bdata": "AAAAAAjWB0EAAAAAYPj5QA==",
          "dtype": "f8"
         },
         "xaxis": "x",
         "y": [
          "71,413",
          "67,600"
         ],
         "yaxis": "y"
        },
        {
         "hovertemplate": "<b>%{hovertext}</b><br><br>Industry=Automotive industry<br>Revenue (USD millions)=%{x}<br>Employees=%{y}<br>Revenue growth (abs)=%{marker.size}<extra></extra>",
         "hovertext": [
          "Ford Motor Company",
          "General Motors"
         ],
         "legendgroup": "Automotive industry",
         "marker": {
          "color": "#EF553B",
          "size": {
           "bdata": "AAAAAAAAJ0AzMzMzMzMjQA==",
           "dtype": "f8"
          },
          "sizemode": "area",
          "sizeref": 0.31475000000000003,
          "symbol": "circle"
         },
         "mode": "markers",
         "name": "Automotive industry",
         "orientation": "h",
         "showlegend": true,
         "type": "scatter",
         "x": {
          "bdata": "AAAAAPiBBUEAAAAAEPoEQQ==",
          "dtype": "f8"
         },
         "xaxis": "x",
         "y": [
          "177,000",
          "163,000"
         ],
         "yaxis": "y"
        },
        {
         "hovertemplate": "<b>%{hovertext}</b><br><br>Industry=Financials<br>Revenue (USD millions)=%{x}<br>Employees=%{y}<br>Revenue growth (abs)=%{marker.size}<extra></extra>",
         "hovertext": [
          "Bank of America",
          "Citigroup",
          "Fannie Mae",
          "Wells Fargo",
          "Goldman Sachs",
          "Freddie Mac",
          "State Farm",
          "Morgan Stanley",
          "MetLife",
          "StoneX Group",
          "Prudential Financial",
          "Capital One Financial",
          "TIAA"
         ],
         "legendgroup": "Financials",
         "marker": {
          "color": "#00cc96",
          "size": {
           "bdata": "MzMzMzOzSEDNzMzMzIxLQDMzMzMzMzBAmpmZmZmZQ0BmZmZmZuZMQJqZmZmZmThAmpmZmZmZMEAzMzMzM/NGQDMzMzMzMxFAMzMzMzMzH0AzMzMzMzMkQAAAAAAAAD1AmpmZmZmZJ0A=",
           "dtype": "f8"
          },
          "sizemode": "area",
          "sizeref": 0.31475000000000003,
          "symbol": "circle"
         },
         "mode": "markers",
         "name": "Financials",
         "orientation": "h",
         "showlegend": true,
         "type": "scatter",
         "x": {
          "bdata": "AAAAAED8BEEAAAAAoCQDQQAAAADAPQFBAAAAAMAo/EAAAAAAIHj6QAAAAAAgYfpAAAAAAHBw+UAAAAAAIHz3QAAAAACQVfBAAAAAAAC37UAAAAAAYFvqQAAAAACAKehAAAAAAOBU5kA=",
          "dtype": "f8"
         },
         "xaxis": "x",
         "y": [
          "212,985",
          "237,925",
          "8,100",
          "226,000",
          "45,300",
          "8,020",
          "65,054",
          "80,006",
          "45,000",
          "4,137",
          "40,366",
          "51,987",
          "16,023"
         ],
         "yaxis": "y"
        },
        {
         "hovertemplate": "<b>%{hovertext}</b><br><br>Industry=Pharmaceutical industry<br>Revenue (USD millions)=%{x}<br>Employees=%{y}<br>Revenue growth (abs)=%{marker.size}<extra></extra>",
         "hovertext": [
          "Walgreens Boots Alliance",
          "Johnson & Johnson",
          "Merck & Co.",
          "Pfizer",
          "AbbVie",
          "Bristol-Myers Squibb"
         ],
         "legendgroup": "Pharmaceutical industry",
         "marker": {
          "color": "#ab63fa",
          "size": {
           "bdata": "MzMzMzMzE0AzMzMzMzPTP2ZmZmZmZvY/mpmZmZnZRECamZmZmZkZQAAAAAAAAARA",
           "dtype": "f8"
          },
          "sizemode": "area",
          "sizeref": 0.31475000000000003,
          "symbol": "circle"
         },
         "mode": "markers",
         "name": "Pharmaceutical industry",
         "orientation": "h",
         "showlegend": true,
         "type": "scatter",
         "x": {
          "bdata": "AAAAAEj6AEEAAAAAsD33QAAAAABgWu1AAAAAAACQ7EAAAAAAoIXqQAAAAADA+eVA",
          "dtype": "f8"
         },
         "xaxis": "x",
         "y": [
          "268,500",
          "131,900",
          "71,000",
          "88,000",
          "50,000",
          "34,100"
         ],
         "yaxis": "y"
        },
        {
         "hovertemplate": "<b>%{hovertext}</b><br><br>Industry=Technology<br>Revenue (USD millions)=%{x}<br>Employees=%{y}<br>Revenue growth (abs)=%{marker.size}<extra></extra>",
         "hovertext": [
          "Meta Platforms",
          "Dell Technologies",
          "Nvidia",
          "Intel",
          "HP",
          "Oracle Corporation"
         ],
         "legendgroup": "Technology",
         "marker": {
          "color": "#FFA15A",
          "size": {
           "bdata": "ZmZmZmZmL0AzMzMzMzMrQJqZmZmZeV9AAAAAAAAALEAAAAAAAAAtQDMzMzMzszFA",
           "dtype": "f8"
          },
          "sizemode": "area",
          "sizeref": 0.31475000000000003,
          "symbol": "circle"
         },
         "mode": "markers",
         "name": "Technology",
         "orientation": "h",
         "showlegend": true,
         "type": "scatter",
         "x": {
          "bdata": "AAAAALB3AEEAAAAAkJb1QAAAAABAv+1AAAAAAIB66kAAAAAAwDrqQAAAAABAZOhA",
          "dtype": "f8"
         },
         "xaxis": "x",
         "y": [
          "67,317",
          "120,000",
          "29,600",
          "124,800",
          "58,000",
          "164,000"
         ],
         "yaxis": "y"
        },
        {
         "hovertemplate": "<b>%{hovertext}</b><br><br>Industry=Telecommunications<br>Revenue (USD millions)=%{x}<br>Employees=%{y}<br>Revenue growth (abs)=%{marker.size}<extra></extra>",
         "hovertext": [
          "Verizon Communications",
          "Comcast",
          "Charter Communications"
         ],
         "legendgroup": "Telecommunications",
         "marker": {
          "color": "#19d3f3",
          "size": {
           "bdata": "zczMzMzMAECamZmZmZm5P5qZmZmZmfE/",
           "dtype": "f8"
          },
          "sizemode": "area",
          "sizeref": 0.31475000000000003,
          "symbol": "circle"
         },
         "mode": "markers",
         "name": "Telecommunications",
         "orientation": "h",
         "showlegend": true,
         "type": "scatter",
         "x": {
          "bdata": "AAAAALBaAEEAAAAAQK79QAAAAADgqepA",
          "dtype": "f8"
         },
         "xaxis": "x",
         "y": [
          "105,400",
          "186,000",
          "101,100"
         ],
         "yaxis": "y"
        },
        {
         "hovertemplate": "<b>%{hovertext}</b><br><br>Industry=Conglomerate and telecommunications<br>Revenue (USD millions)=%{x}<br>Employees=%{y}<br>Revenue growth (abs)=%{marker.size}<extra></extra>",
         "hovertext": [
          "AT&T"
         ],
         "legendgroup": "Conglomerate and telecommunications",
         "marker": {
          "color": "#FF6692",
          "size": {
           "bdata": "ZmZmZmZm9j8=",
           "dtype": "f8"
          },
          "sizemode": "area",
          "sizeref": 0.31475000000000003,
          "symbol": "circle"
         },
         "mode": "markers",
         "name": "Conglomerate and telecommunications",
         "orientation": "h",
         "showlegend": true,
         "type": "scatter",
         "x": {
          "bdata": "AAAAAMDj/UA=",
          "dtype": "f8"
         },
         "xaxis": "x",
         "y": [
          "150,470"
         ],
         "yaxis": "y"
        },
        {
         "hovertemplate": "<b>%{hovertext}</b><br><br>Industry=Automotive and energy<br>Revenue (USD millions)=%{x}<br>Employees=%{y}<br>Revenue growth (abs)=%{marker.size}<extra></extra>",
         "hovertext": [
          "Tesla"
         ],
         "legendgroup": "Automotive and energy",
         "marker": {
          "color": "#B6E880",
          "size": {
           "bdata": "zczMzMzMMkA=",
           "dtype": "f8"
          },
          "sizemode": "area",
          "sizeref": 0.31475000000000003,
          "symbol": "circle"
         },
         "mode": "markers",
         "name": "Automotive and energy",
         "orientation": "h",
         "showlegend": true,
         "type": "scatter",
         "x": {
          "bdata": "AAAAAFCg90A=",
          "dtype": "f8"
         },
         "xaxis": "x",
         "y": [
          "140,473"
         ],
         "yaxis": "y"
        },
        {
         "hovertemplate": "<b>%{hovertext}</b><br><br>Industry=Food industry<br>Revenue (USD millions)=%{x}<br>Employees=%{y}<br>Revenue growth (abs)=%{marker.size}<extra></extra>",
         "hovertext": [
          "Archer Daniels Midland"
         ],
         "legendgroup": "Food industry",
         "marker": {
          "color": "#FF97FF",
          "size": {
           "bdata": "AAAAAAAAHkA=",
           "dtype": "f8"
          },
          "sizemode": "area",
          "sizeref": 0.31475000000000003,
          "symbol": "circle"
         },
         "mode": "markers",
         "name": "Food industry",
         "orientation": "h",
         "showlegend": true,
         "type": "scatter",
         "x": {
          "bdata": "AAAAAPDu9kA=",
          "dtype": "f8"
         },
         "xaxis": "x",
         "y": [
          "41,008"
         ],
         "yaxis": "y"
        },
        {
         "hovertemplate": "<b>%{hovertext}</b><br><br>Industry=Beverage<br>Revenue (USD millions)=%{x}<br>Employees=%{y}<br>Revenue growth (abs)=%{marker.size}<extra></extra>",
         "hovertext": [
          "PepsiCo",
          "Coca-Cola"
         ],
         "legendgroup": "Beverage",
         "marker": {
          "color": "#FECB52",
          "size": {
           "bdata": "mpmZmZmZF0CamZmZmZkZQA==",
           "dtype": "f8"
          },
          "sizemode": "area",
          "sizeref": 0.31475000000000003,
          "symbol": "circle"
         },
         "mode": "markers",
         "name": "Beverage",
         "orientation": "h",
         "showlegend": true,
         "type": "scatter",
         "x": {
          "bdata": "AAAAAPBU9kAAAAAAQFfmQA==",
          "dtype": "f8"
         },
         "xaxis": "x",
         "y": [
          "318,000",
          "79,100"
         ],
         "yaxis": "y"
        },
        {
         "hovertemplate": "<b>%{hovertext}</b><br><br>Industry=Transportation<br>Revenue (USD millions)=%{x}<br>Employees=%{y}<br>Revenue growth (abs)=%{marker.size}<extra></extra>",
         "hovertext": [
          "United Parcel Service",
          "FedEx"
         ],
         "legendgroup": "Transportation",
         "marker": {
          "color": "#636efa",
          "size": {
           "bdata": "mpmZmZmZIkDNzMzMzMwMQA==",
           "dtype": "f8"
          },
          "sizemode": "area",
          "sizeref": 0.31475000000000003,
          "symbol": "circle"
         },
         "mode": "markers",
         "name": "Transportation",
         "orientation": "h",
         "showlegend": true,
         "type": "scatter",
         "x": {
          "bdata": "AAAAAOA09kAAAAAAsAL2QA==",
          "dtype": "f8"
         },
         "xaxis": "x",
         "y": [
          "382,550",
          "446,400"
         ],
         "yaxis": "y"
        },
        {
         "hovertemplate": "<b>%{hovertext}</b><br><br>Industry=Media<br>Revenue (USD millions)=%{x}<br>Employees=%{y}<br>Revenue growth (abs)=%{marker.size}<extra></extra>",
         "hovertext": [
          "The Walt Disney Company"
         ],
         "legendgroup": "Media",
         "marker": {
          "color": "#EF553B",
          "size": {
           "bdata": "AAAAAAAAHkA=",
           "dtype": "f8"
          },
          "sizemode": "area",
          "sizeref": 0.31475000000000003,
          "symbol": "circle"
         },
         "mode": "markers",
         "name": "Media",
         "orientation": "h",
         "showlegend": true,
         "type": "scatter",
         "x": {
          "bdata": "AAAAACC09UA=",
          "dtype": "f8"
         },
         "xaxis": "x",
         "y": [
          "199,125"
         ],
         "yaxis": "y"
        },
        {
         "hovertemplate": "<b>%{hovertext}</b><br><br>Industry=Consumer products manufacturing<br>Revenue (USD millions)=%{x}<br>Employees=%{y}<br>Revenue growth (abs)=%{marker.size}<extra></extra>",
         "hovertext": [
          "Procter & Gamble"
         ],
         "legendgroup": "Consumer products manufacturing",
         "marker": {
          "color": "#00cc96",
          "size": {
           "bdata": "ZmZmZmZmAkA=",
           "dtype": "f8"
          },
          "sizemode": "area",
          "sizeref": 0.31475000000000003,
          "symbol": "circle"
         },
         "mode": "markers",
         "name": "Consumer products manufacturing",
         "orientation": "h",
         "showlegend": true,
         "type": "scatter",
         "x": {
          "bdata": "AAAAAGAF9EA=",
          "dtype": "f8"
         },
         "xaxis": "x",
         "y": [
          "107,000"
         ],
         "yaxis": "y"
        },
        {
         "hovertemplate": "<b>%{hovertext}</b><br><br>Industry=Aerospace and defense<br>Revenue (USD millions)=%{x}<br>Employees=%{y}<br>Revenue growth (abs)=%{marker.size}<extra></extra>",
         "hovertext": [
          "Boeing",
          "Lockheed Martin"
         ],
         "legendgroup": "Aerospace and defense",
         "marker": {
          "color": "#ab63fa",
          "size": {
           "bdata": "zczMzMzMMEAzMzMzMzMDQA==",
           "dtype": "f8"
          },
          "sizemode": "area",
          "sizeref": 0.31475000000000003,
          "symbol": "circle"
         },
         "mode": "markers",
         "name": "Aerospace and defense",
         "orientation": "h",
         "showlegend": true,
         "type": "scatter",
         "x": {
          "bdata": "AAAAACD+8kAAAAAAMH/wQA==",
          "dtype": "f8"
         },
         "xaxis": "x",
         "y": [
          "171,000",
          "122,000"
         ],
         "yaxis": "y"
        },
        {
         "hovertemplate": "<b>%{hovertext}</b><br><br>Industry=Food service<br>Revenue (USD millions)=%{x}<br>Employees=%{y}<br>Revenue growth (abs)=%{marker.size}<extra></extra>",
         "hovertext": [
          "Sysco"
         ],
         "legendgroup": "Food service",
         "marker": {
          "color": "#FFA15A",
          "size": {
           "bdata": "ZmZmZmZmJkA=",
           "dtype": "f8"
          },
          "sizemode": "area",
          "sizeref": 0.31475000000000003,
          "symbol": "circle"
         },
         "mode": "markers",
         "name": "Food service",
         "orientation": "h",
         "showlegend": true,
         "type": "scatter",
         "x": {
          "bdata": "AAAAAFCi8kA=",
          "dtype": "f8"
         },
         "xaxis": "x",
         "y": [
          "71,750"
         ],
         "yaxis": "y"
        },
        {
         "hovertemplate": "<b>%{hovertext}</b><br><br>Industry=Financial<br>Revenue (USD millions)=%{x}<br>Employees=%{y}<br>Revenue growth (abs)=%{marker.size}<extra></extra>",
         "hovertext": [
          "American Express",
          "Nationwide Mutual Insurance Company"
         ],
         "legendgroup": "Financial",
         "marker": {
          "color": "#19d3f3",
          "size": {
           "bdata": "mpmZmZkZNUBmZmZmZmYYQA==",
           "dtype": "f8"
          },
          "sizemode": "area",
          "sizeref": 0.31475000000000003,
          "symbol": "circle"
         },
         "mode": "markers",
         "name": "Financial",
         "orientation": "h",
         "showlegend": true,
         "type": "scatter",
         "x": {
          "bdata": "AAAAAEBy8EAAAAAAIKrqQA==",
          "dtype": "f8"
         },
         "xaxis": "x",
         "y": [
          "74,600",
          "24,118"
         ],
         "yaxis": "y"
        },
        {
         "hovertemplate": "<b>%{hovertext}</b><br><br>Industry=Machinery<br>Revenue (USD millions)=%{x}<br>Employees=%{y}<br>Revenue growth (abs)=%{marker.size}<extra></extra>",
         "hovertext": [
          "Caterpillar"
         ],
         "legendgroup": "Machinery",
         "marker": {
          "color": "#FF6692",
          "size": {
           "bdata": "mpmZmZmZKUA=",
           "dtype": "f8"
          },
          "sizemode": "area",
          "sizeref": 0.31475000000000003,
          "symbol": "circle"
         },
         "mode": "markers",
         "name": "Machinery",
         "orientation": "h",
         "showlegend": true,
         "type": "scatter",
         "x": {
          "bdata": "AAAAAEBf8EA=",
          "dtype": "f8"
         },
         "xaxis": "x",
         "y": [
          "113,200"
         ],
         "yaxis": "y"
        },
        {
         "hovertemplate": "<b>%{hovertext}</b><br><br>Industry=Insurance<br>Revenue (USD millions)=%{x}<br>Employees=%{y}<br>Revenue growth (abs)=%{marker.size}<extra></extra>",
         "hovertext": [
          "Progressive Corporation",
          "Allstate",
          "New York Life Insurance Company",
          "Liberty Mutual",
          "AIG"
         ],
         "legendgroup": "Insurance",
         "marker": {
          "color": "#B6E880",
          "size": {
           "bdata": "MzMzMzMzOUAzMzMzMzMmQGZmZmZmZixAMzMzMzMzFUCamZmZmRkxQA==",
           "dtype": "f8"
          },
          "sizemode": "area",
          "sizeref": 0.31475000000000003,
          "symbol": "circle"
         },
         "mode": "markers",
         "name": "Insurance",
         "orientation": "h",
         "showlegend": true,
         "type": "scatter",
         "x": {
          "bdata": "AAAAAKBT7kAAAAAAwODrQAAAAACghepAAAAAAICw6UAAAAAAQNrmQA==",
          "dtype": "f8"
         },
         "xaxis": "x",
         "y": [
          "61,432",
          "53,200",
          "15,384",
          "45,000",
          "25,200"
         ],
         "yaxis": "y"
        },
        {
         "hovertemplate": "<b>%{hovertext}</b><br><br>Industry=Agriculture manufacturing<br>Revenue (USD millions)=%{x}<br>Employees=%{y}<br>Revenue growth (abs)=%{marker.size}<extra></extra>",
         "hovertext": [
          "John Deere"
         ],
         "legendgroup": "Agriculture manufacturing",
         "marker": {
          "color": "#FF97FF",
          "size": {
           "bdata": "AAAAAACAMEA=",
           "dtype": "f8"
          },
          "sizemode": "area",
          "sizeref": 0.31475000000000003,
          "symbol": "circle"
         },
         "mode": "markers",
         "name": "Agriculture manufacturing",
         "orientation": "h",
         "showlegend": true,
         "type": "scatter",
         "x": {
          "bdata": "AAAAAGDo7UA=",
          "dtype": "f8"
         },
         "xaxis": "x",
         "y": [
          "82,956"
         ],
         "yaxis": "y"
        },
        {
         "hovertemplate": "<b>%{hovertext}</b><br><br>Industry=Airline<br>Revenue (USD millions)=%{x}<br>Employees=%{y}<br>Revenue growth (abs)=%{marker.size}<extra></extra>",
         "hovertext": [
          "Delta Air Lines",
          "United Airlines",
          "American Airlines"
         ],
         "legendgroup": "Airline",
         "marker": {
          "color": "#FECB52",
          "size": {
           "bdata": "mpmZmZmZLUAAAAAAAIAzQDMzMzMzMx9A",
           "dtype": "f8"
          },
          "sizemode": "area",
          "sizeref": 0.31475000000000003,
          "symbol": "circle"
         },
         "mode": "markers",
         "name": "Airline",
         "orientation": "h",
         "showlegend": true,
         "type": "scatter",
         "x": {
          "bdata": "AAAAAABY7EAAAAAAoDrqQAAAAACAxulA",
          "dtype": "f8"
         },
         "xaxis": "x",
         "y": [
          "103,000",
          "103,300",
          "132,100"
         ],
         "yaxis": "y"
        },
        {
         "hovertemplate": "<b>%{hovertext}</b><br><br>Industry=Infotech<br>Revenue (USD millions)=%{x}<br>Employees=%{y}<br>Revenue growth (abs)=%{marker.size}<extra></extra>",
         "hovertext": [
          "TD Synnex"
         ],
         "legendgroup": "Infotech",
         "marker": {
          "color": "#636efa",
          "size": {
           "bdata": "zczMzMzMHkA=",
           "dtype": "f8"
          },
          "sizemode": "area",
          "sizeref": 0.31475000000000003,
          "symbol": "circle"
         },
         "mode": "markers",
         "name": "Infotech",
         "orientation": "h",
         "showlegend": true,
         "type": "scatter",
         "x": {
          "bdata": "AAAAAGAa7EA=",
          "dtype": "f8"
         },
         "xaxis": "x",
         "y": [
          "28,000"
         ],
         "yaxis": "y"
        },
        {
         "hovertemplate": "<b>%{hovertext}</b><br><br>Industry=Telecom hardware manufacturing<br>Revenue (USD millions)=%{x}<br>Employees=%{y}<br>Revenue growth (abs)=%{marker.size}<extra></extra>",
         "hovertext": [
          "Cisco"
         ],
         "legendgroup": "Telecom hardware manufacturing",
         "marker": {
          "color": "#EF553B",
          "size": {
           "bdata": "MzMzMzMzJUA=",
           "dtype": "f8"
          },
          "sizemode": "area",
          "sizeref": 0.31475000000000003,
          "symbol": "circle"
         },
         "mode": "markers",
         "name": "Telecom hardware manufacturing",
         "orientation": "h",
         "showlegend": true,
         "type": "scatter",
         "x": {
          "bdata": "AAAAAMDU60A=",
          "dtype": "f8"
         },
         "xaxis": "x",
         "y": [
          "84,900"
         ],
         "yaxis": "y"
        },
        {
         "hovertemplate": "<b>%{hovertext}</b><br><br>Industry=Food processing<br>Revenue (USD millions)=%{x}<br>Employees=%{y}<br>Revenue growth (abs)=%{marker.size}<extra></extra>",
         "hovertext": [
          "Performance Food Group",
          "Tyson Foods"
         ],
         "legendgroup": "Food processing",
         "marker": {
          "color": "#00cc96",
          "size": {
           "bdata": "MzMzMzMzKkCamZmZmZnpPw==",
           "dtype": "f8"
          },
          "sizemode": "area",
          "sizeref": 0.31475000000000003,
          "symbol": "circle"
         },
         "mode": "markers",
         "name": "Food processing",
         "orientation": "h",
         "showlegend": true,
         "type": "scatter",
         "x": {
          "bdata": "AAAAAGAN6kAAAAAAgMbpQA==",
          "dtype": "f8"
         },
         "xaxis": "x",
         "y": [
          "34,825",
          "139,000"
         ],
         "yaxis": "y"
        },
        {
         "hovertemplate": "<b>%{hovertext}</b><br><br>Industry=Apparel<br>Revenue (USD millions)=%{x}<br>Employees=%{y}<br>Revenue growth (abs)=%{marker.size}<extra></extra>",
         "hovertext": [
          "Nike"
         ],
         "legendgroup": "Apparel",
         "marker": {
          "color": "#ab63fa",
          "size": {
           "bdata": "MzMzMzMzI0A=",
           "dtype": "f8"
          },
          "sizemode": "area",
          "sizeref": 0.31475000000000003,
          "symbol": "circle"
         },
         "mode": "markers",
         "name": "Apparel",
         "orientation": "h",
         "showlegend": true,
         "type": "scatter",
         "x": {
          "bdata": "AAAAACAC6UA=",
          "dtype": "f8"
         },
         "xaxis": "x",
         "y": [
          "83,700"
         ],
         "yaxis": "y"
        },
        {
         "hovertemplate": "<b>%{hovertext}</b><br><br>Industry=Energy trading<br>Revenue (USD millions)=%{x}<br>Employees=%{y}<br>Revenue growth (abs)=%{marker.size}<extra></extra>",
         "hovertext": [
          "World Kinect Corporation"
         ],
         "legendgroup": "Energy trading",
         "marker": {
          "color": "#FFA15A",
          "size": {
           "bdata": "MzMzMzMzM0A=",
           "dtype": "f8"
          },
          "sizemode": "area",
          "sizeref": 0.31475000000000003,
          "symbol": "circle"
         },
         "mode": "markers",
         "name": "Energy trading",
         "orientation": "h",
         "showlegend": true,
         "type": "scatter",
         "x": {
          "bdata": "AAAAAOBL50A=",
          "dtype": "f8"
         },
         "xaxis": "x",
         "y": [
          "5,289"
         ],
         "yaxis": "y"
        },
        {
         "hovertemplate": "<b>%{hovertext}</b><br><br>Industry=Agriculture cooperative<br>Revenue (USD millions)=%{x}<br>Employees=%{y}<br>Revenue growth (abs)=%{marker.size}<extra></extra>",
         "hovertext": [
          "CHS"
         ],
         "legendgroup": "Agriculture cooperative",
         "marker": {
          "color": "#19d3f3",
          "size": {
           "bdata": "ZmZmZmZmEkA=",
           "dtype": "f8"
          },
          "sizemode": "area",
          "sizeref": 0.31475000000000003,
          "symbol": "circle"
         },
         "mode": "markers",
         "name": "Agriculture cooperative",
         "orientation": "h",
         "showlegend": true,
         "type": "scatter",
         "x": {
          "bdata": "AAAAAMBC5kA=",
          "dtype": "f8"
         },
         "xaxis": "x",
         "y": [
          "10,609"
         ],
         "yaxis": "y"
        },
        {
         "hovertemplate": "<b>%{hovertext}</b><br><br>Industry=Chemical industry<br>Revenue (USD millions)=%{x}<br>Employees=%{y}<br>Revenue growth (abs)=%{marker.size}<extra></extra>",
         "hovertext": [
          "Dow Chemical Company"
         ],
         "legendgroup": "Chemical industry",
         "marker": {
          "color": "#FF6692",
          "size": {
           "bdata": "mpmZmZmZNUA=",
           "dtype": "f8"
          },
          "sizemode": "area",
          "sizeref": 0.31475000000000003,
          "symbol": "circle"
         },
         "mode": "markers",
         "name": "Chemical industry",
         "orientation": "h",
         "showlegend": true,
         "type": "scatter",
         "x": {
          "bdata": "AAAAAMDJ5UA=",
          "dtype": "f8"
         },
         "xaxis": "x",
         "y": [
          "35,900"
         ],
         "yaxis": "y"
        }
       ],
       "layout": {
        "legend": {
         "itemsizing": "constant",
         "title": {
          "text": "Industry"
         },
         "tracegroupgap": 0
        },
        "template": {
         "data": {
          "bar": [
           {
            "error_x": {
             "color": "#2a3f5f"
            },
            "error_y": {
             "color": "#2a3f5f"
            },
            "marker": {
             "line": {
              "color": "#E5ECF6",
              "width": 0.5
             },
             "pattern": {
              "fillmode": "overlay",
              "size": 10,
              "solidity": 0.2
             }
            },
            "type": "bar"
           }
          ],
          "barpolar": [
           {
            "marker": {
             "line": {
              "color": "#E5ECF6",
              "width": 0.5
             },
             "pattern": {
              "fillmode": "overlay",
              "size": 10,
              "solidity": 0.2
             }
            },
            "type": "barpolar"
           }
          ],
          "carpet": [
           {
            "aaxis": {
             "endlinecolor": "#2a3f5f",
             "gridcolor": "white",
             "linecolor": "white",
             "minorgridcolor": "white",
             "startlinecolor": "#2a3f5f"
            },
            "baxis": {
             "endlinecolor": "#2a3f5f",
             "gridcolor": "white",
             "linecolor": "white",
             "minorgridcolor": "white",
             "startlinecolor": "#2a3f5f"
            },
            "type": "carpet"
           }
          ],
          "choropleth": [
           {
            "colorbar": {
             "outlinewidth": 0,
             "ticks": ""
            },
            "type": "choropleth"
           }
          ],
          "contour": [
           {
            "colorbar": {
             "outlinewidth": 0,
             "ticks": ""
            },
            "colorscale": [
             [
              0,
              "#0d0887"
             ],
             [
              0.1111111111111111,
              "#46039f"
             ],
             [
              0.2222222222222222,
              "#7201a8"
             ],
             [
              0.3333333333333333,
              "#9c179e"
             ],
             [
              0.4444444444444444,
              "#bd3786"
             ],
             [
              0.5555555555555556,
              "#d8576b"
             ],
             [
              0.6666666666666666,
              "#ed7953"
             ],
             [
              0.7777777777777778,
              "#fb9f3a"
             ],
             [
              0.8888888888888888,
              "#fdca26"
             ],
             [
              1,
              "#f0f921"
             ]
            ],
            "type": "contour"
           }
          ],
          "contourcarpet": [
           {
            "colorbar": {
             "outlinewidth": 0,
             "ticks": ""
            },
            "type": "contourcarpet"
           }
          ],
          "heatmap": [
           {
            "colorbar": {
             "outlinewidth": 0,
             "ticks": ""
            },
            "colorscale": [
             [
              0,
              "#0d0887"
             ],
             [
              0.1111111111111111,
              "#46039f"
             ],
             [
              0.2222222222222222,
              "#7201a8"
             ],
             [
              0.3333333333333333,
              "#9c179e"
             ],
             [
              0.4444444444444444,
              "#bd3786"
             ],
             [
              0.5555555555555556,
              "#d8576b"
             ],
             [
              0.6666666666666666,
              "#ed7953"
             ],
             [
              0.7777777777777778,
              "#fb9f3a"
             ],
             [
              0.8888888888888888,
              "#fdca26"
             ],
             [
              1,
              "#f0f921"
             ]
            ],
            "type": "heatmap"
           }
          ],
          "histogram": [
           {
            "marker": {
             "pattern": {
              "fillmode": "overlay",
              "size": 10,
              "solidity": 0.2
             }
            },
            "type": "histogram"
           }
          ],
          "histogram2d": [
           {
            "colorbar": {
             "outlinewidth": 0,
             "ticks": ""
            },
            "colorscale": [
             [
              0,
              "#0d0887"
             ],
             [
              0.1111111111111111,
              "#46039f"
             ],
             [
              0.2222222222222222,
              "#7201a8"
             ],
             [
              0.3333333333333333,
              "#9c179e"
             ],
             [
              0.4444444444444444,
              "#bd3786"
             ],
             [
              0.5555555555555556,
              "#d8576b"
             ],
             [
              0.6666666666666666,
              "#ed7953"
             ],
             [
              0.7777777777777778,
              "#fb9f3a"
             ],
             [
              0.8888888888888888,
              "#fdca26"
             ],
             [
              1,
              "#f0f921"
             ]
            ],
            "type": "histogram2d"
           }
          ],
          "histogram2dcontour": [
           {
            "colorbar": {
             "outlinewidth": 0,
             "ticks": ""
            },
            "colorscale": [
             [
              0,
              "#0d0887"
             ],
             [
              0.1111111111111111,
              "#46039f"
             ],
             [
              0.2222222222222222,
              "#7201a8"
             ],
             [
              0.3333333333333333,
              "#9c179e"
             ],
             [
              0.4444444444444444,
              "#bd3786"
             ],
             [
              0.5555555555555556,
              "#d8576b"
             ],
             [
              0.6666666666666666,
              "#ed7953"
             ],
             [
              0.7777777777777778,
              "#fb9f3a"
             ],
             [
              0.8888888888888888,
              "#fdca26"
             ],
             [
              1,
              "#f0f921"
             ]
            ],
            "type": "histogram2dcontour"
           }
          ],
          "mesh3d": [
           {
            "colorbar": {
             "outlinewidth": 0,
             "ticks": ""
            },
            "type": "mesh3d"
           }
          ],
          "parcoords": [
           {
            "line": {
             "colorbar": {
              "outlinewidth": 0,
              "ticks": ""
             }
            },
            "type": "parcoords"
           }
          ],
          "pie": [
           {
            "automargin": true,
            "type": "pie"
           }
          ],
          "scatter": [
           {
            "fillpattern": {
             "fillmode": "overlay",
             "size": 10,
             "solidity": 0.2
            },
            "type": "scatter"
           }
          ],
          "scatter3d": [
           {
            "line": {
             "colorbar": {
              "outlinewidth": 0,
              "ticks": ""
             }
            },
            "marker": {
             "colorbar": {
              "outlinewidth": 0,
              "ticks": ""
             }
            },
            "type": "scatter3d"
           }
          ],
          "scattercarpet": [
           {
            "marker": {
             "colorbar": {
              "outlinewidth": 0,
              "ticks": ""
             }
            },
            "type": "scattercarpet"
           }
          ],
          "scattergeo": [
           {
            "marker": {
             "colorbar": {
              "outlinewidth": 0,
              "ticks": ""
             }
            },
            "type": "scattergeo"
           }
          ],
          "scattergl": [
           {
            "marker": {
             "colorbar": {
              "outlinewidth": 0,
              "ticks": ""
             }
            },
            "type": "scattergl"
           }
          ],
          "scattermap": [
           {
            "marker": {
             "colorbar": {
              "outlinewidth": 0,
              "ticks": ""
             }
            },
            "type": "scattermap"
           }
          ],
          "scattermapbox": [
           {
            "marker": {
             "colorbar": {
              "outlinewidth": 0,
              "ticks": ""
             }
            },
            "type": "scattermapbox"
           }
          ],
          "scatterpolar": [
           {
            "marker": {
             "colorbar": {
              "outlinewidth": 0,
              "ticks": ""
             }
            },
            "type": "scatterpolar"
           }
          ],
          "scatterpolargl": [
           {
            "marker": {
             "colorbar": {
              "outlinewidth": 0,
              "ticks": ""
             }
            },
            "type": "scatterpolargl"
           }
          ],
          "scatterternary": [
           {
            "marker": {
             "colorbar": {
              "outlinewidth": 0,
              "ticks": ""
             }
            },
            "type": "scatterternary"
           }
          ],
          "surface": [
           {
            "colorbar": {
             "outlinewidth": 0,
             "ticks": ""
            },
            "colorscale": [
             [
              0,
              "#0d0887"
             ],
             [
              0.1111111111111111,
              "#46039f"
             ],
             [
              0.2222222222222222,
              "#7201a8"
             ],
             [
              0.3333333333333333,
              "#9c179e"
             ],
             [
              0.4444444444444444,
              "#bd3786"
             ],
             [
              0.5555555555555556,
              "#d8576b"
             ],
             [
              0.6666666666666666,
              "#ed7953"
             ],
             [
              0.7777777777777778,
              "#fb9f3a"
             ],
             [
              0.8888888888888888,
              "#fdca26"
             ],
             [
              1,
              "#f0f921"
             ]
            ],
            "type": "surface"
           }
          ],
          "table": [
           {
            "cells": {
             "fill": {
              "color": "#EBF0F8"
             },
             "line": {
              "color": "white"
             }
            },
            "header": {
             "fill": {
              "color": "#C8D4E3"
             },
             "line": {
              "color": "white"
             }
            },
            "type": "table"
           }
          ]
         },
         "layout": {
          "annotationdefaults": {
           "arrowcolor": "#2a3f5f",
           "arrowhead": 0,
           "arrowwidth": 1
          },
          "autotypenumbers": "strict",
          "coloraxis": {
           "colorbar": {
            "outlinewidth": 0,
            "ticks": ""
           }
          },
          "colorscale": {
           "diverging": [
            [
             0,
             "#8e0152"
            ],
            [
             0.1,
             "#c51b7d"
            ],
            [
             0.2,
             "#de77ae"
            ],
            [
             0.3,
             "#f1b6da"
            ],
            [
             0.4,
             "#fde0ef"
            ],
            [
             0.5,
             "#f7f7f7"
            ],
            [
             0.6,
             "#e6f5d0"
            ],
            [
             0.7,
             "#b8e186"
            ],
            [
             0.8,
             "#7fbc41"
            ],
            [
             0.9,
             "#4d9221"
            ],
            [
             1,
             "#276419"
            ]
           ],
           "sequential": [
            [
             0,
             "#0d0887"
            ],
            [
             0.1111111111111111,
             "#46039f"
            ],
            [
             0.2222222222222222,
             "#7201a8"
            ],
            [
             0.3333333333333333,
             "#9c179e"
            ],
            [
             0.4444444444444444,
             "#bd3786"
            ],
            [
             0.5555555555555556,
             "#d8576b"
            ],
            [
             0.6666666666666666,
             "#ed7953"
            ],
            [
             0.7777777777777778,
             "#fb9f3a"
            ],
            [
             0.8888888888888888,
             "#fdca26"
            ],
            [
             1,
             "#f0f921"
            ]
           ],
           "sequentialminus": [
            [
             0,
             "#0d0887"
            ],
            [
             0.1111111111111111,
             "#46039f"
            ],
            [
             0.2222222222222222,
             "#7201a8"
            ],
            [
             0.3333333333333333,
             "#9c179e"
            ],
            [
             0.4444444444444444,
             "#bd3786"
            ],
            [
             0.5555555555555556,
             "#d8576b"
            ],
            [
             0.6666666666666666,
             "#ed7953"
            ],
            [
             0.7777777777777778,
             "#fb9f3a"
            ],
            [
             0.8888888888888888,
             "#fdca26"
            ],
            [
             1,
             "#f0f921"
            ]
           ]
          },
          "colorway": [
           "#636efa",
           "#EF553B",
           "#00cc96",
           "#ab63fa",
           "#FFA15A",
           "#19d3f3",
           "#FF6692",
           "#B6E880",
           "#FF97FF",
           "#FECB52"
          ],
          "font": {
           "color": "#2a3f5f"
          },
          "geo": {
           "bgcolor": "white",
           "lakecolor": "white",
           "landcolor": "#E5ECF6",
           "showlakes": true,
           "showland": true,
           "subunitcolor": "white"
          },
          "hoverlabel": {
           "align": "left"
          },
          "hovermode": "closest",
          "mapbox": {
           "style": "light"
          },
          "paper_bgcolor": "white",
          "plot_bgcolor": "#E5ECF6",
          "polar": {
           "angularaxis": {
            "gridcolor": "white",
            "linecolor": "white",
            "ticks": ""
           },
           "bgcolor": "#E5ECF6",
           "radialaxis": {
            "gridcolor": "white",
            "linecolor": "white",
            "ticks": ""
           }
          },
          "scene": {
           "xaxis": {
            "backgroundcolor": "#E5ECF6",
            "gridcolor": "white",
            "gridwidth": 2,
            "linecolor": "white",
            "showbackground": true,
            "ticks": "",
            "zerolinecolor": "white"
           },
           "yaxis": {
            "backgroundcolor": "#E5ECF6",
            "gridcolor": "white",
            "gridwidth": 2,
            "linecolor": "white",
            "showbackground": true,
            "ticks": "",
            "zerolinecolor": "white"
           },
           "zaxis": {
            "backgroundcolor": "#E5ECF6",
            "gridcolor": "white",
            "gridwidth": 2,
            "linecolor": "white",
            "showbackground": true,
            "ticks": "",
            "zerolinecolor": "white"
           }
          },
          "shapedefaults": {
           "line": {
            "color": "#2a3f5f"
           }
          },
          "ternary": {
           "aaxis": {
            "gridcolor": "white",
            "linecolor": "white",
            "ticks": ""
           },
           "baxis": {
            "gridcolor": "white",
            "linecolor": "white",
            "ticks": ""
           },
           "bgcolor": "#E5ECF6",
           "caxis": {
            "gridcolor": "white",
            "linecolor": "white",
            "ticks": ""
           }
          },
          "title": {
           "x": 0.05
          },
          "xaxis": {
           "automargin": true,
           "gridcolor": "white",
           "linecolor": "white",
           "ticks": "",
           "title": {
            "standoff": 15
           },
           "zerolinecolor": "white",
           "zerolinewidth": 2
          },
          "yaxis": {
           "automargin": true,
           "gridcolor": "white",
           "linecolor": "white",
           "ticks": "",
           "title": {
            "standoff": 15
           },
           "zerolinecolor": "white",
           "zerolinewidth": 2
          }
         }
        },
        "title": {
         "text": "Revenue vs Employees (Bubble size = Absolute Growth Rate)"
        },
        "xaxis": {
         "anchor": "y",
         "domain": [
          0,
          1
         ],
         "title": {
          "text": "Revenue (USD millions)"
         }
        },
        "yaxis": {
         "anchor": "x",
         "domain": [
          0,
          1
         ],
         "title": {
          "text": "Employees"
         }
        }
       }
      }
     },
     "metadata": {},
     "output_type": "display_data"
    }
   ],
   "source": [
    "df['Revenue growth (abs)'] = df['Revenue growth'].abs()\n",
    "\n",
    "fig = px.scatter(\n",
    "    df,\n",
    "    x='Revenue (USD millions)',\n",
    "    y='Employees',\n",
    "    size='Revenue growth (abs)',\n",
    "    color='Industry',\n",
    "    hover_name='Name',\n",
    "    title='Revenue vs Employees (Bubble size = Absolute Growth Rate)'\n",
    ")\n",
    "fig.show()\n"
   ]
  },
  {
   "cell_type": "markdown",
   "id": "b2cbc997",
   "metadata": {},
   "source": [
    "# 8. Heatmap – Correlation Matrix (Seaborn)\n",
    "A Heatmap – Correlation Matrix using Seaborn is a visualization that shows the relationships between multiple variables in a dataset"
   ]
  },
  {
   "cell_type": "code",
   "execution_count": 24,
   "id": "771b8d63",
   "metadata": {},
   "outputs": [
    {
     "data": {
      "image/png": "[encoded data removed]",
      "text/plain": [
       "<Figure size 600x400 with 2 Axes>"
      ]
     },
     "metadata": {},
     "output_type": "display_data"
    }
   ],
   "source": [
    "# Convert to string first, then remove commas/percent signs, and convert to float\n",
    "df['Revenue (USD millions)'] = df['Revenue (USD millions)'].astype(str).str.replace(',', '').astype(float)\n",
    "df['Employees'] = df['Employees'].astype(str).str.replace(',', '').astype(float)\n",
    "df['Revenue growth'] = df['Revenue growth'].astype(str).str.replace('%', '').astype(float)\n",
    "\n",
    "# Plot the correlation heatmap\n",
    "plt.figure(figsize=(6, 4))\n",
    "sns.heatmap(df[['Revenue (USD millions)', 'Employees', 'Revenue growth']].corr(), annot=True, cmap='coolwarm')\n",
    "plt.title(\"Correlation Matrix\")\n",
    "plt.show()\n"
   ]
  },
  {
   "cell_type": "markdown",
   "id": "bb2f051e",
   "metadata": {},
   "source": [
    "# 9. Treemap – Revenue by Company and Industry (Plotly)"
   ]
  },
  {
   "cell_type": "code",
   "execution_count": 25,
   "id": "62c8e316",
   "metadata": {},
   "outputs": [
    {
     "data": {
      "application/vnd.plotly.v1+json": {
       "config": {
        "plotlyServerURL": "https://plot.ly"
       },
       "data": [
        {
         "branchvalues": "total",
         "domain": {
          "x": [
           0,
           1
          ],
          "y": [
           0,
           1
          ]
         },
         "hovertemplate": "labels=%{label}<br>Revenue (USD millions)=%{value}<br>parent=%{parent}<br>id=%{id}<extra></extra>",
         "ids": [
          "Retail/Walmart",
          "Retail and cloud computing/Amazon",
          "Electronics industry/Apple",
          "Healthcare/UnitedHealth Group",
          "Conglomerate/Berkshire Hathaway",
          "Healthcare/CVS Health",
          "Petroleum industry/ExxonMobil",
          "Technology and cloud computing/Alphabet",
          "Health/McKesson Corporation",
          "Pharmacy wholesale/Cencora",
          "Retail",
          "Retail and cloud computing",
          "Electronics industry",
          "Healthcare",
          "Conglomerate",
          "Petroleum industry",
          "Technology and cloud computing",
          "Health",
          "Pharmacy wholesale"
         ],
         "labels": [
          "Walmart",
          "Amazon",
          "Apple",
          "UnitedHealth Group",
          "Berkshire Hathaway",
          "CVS Health",
          "ExxonMobil",
          "Alphabet",
          "McKesson Corporation",
          "Cencora",
          "Retail",
          "Retail and cloud computing",
          "Electronics industry",
          "Healthcare",
          "Conglomerate",
          "Petroleum industry",
          "Technology and cloud computing",
          "Health",
          "Pharmacy wholesale"
         ],
         "name": "",
         "parents": [
          "Retail",
          "Retail and cloud computing",
          "Electronics industry",
          "Healthcare",
          "Conglomerate",
          "Healthcare",
          "Petroleum industry",
          "Technology and cloud computing",
          "Health",
          "Pharmacy wholesale",
          "",
          "",
          "",
          "",
          "",
          "",
          "",
          "",
          ""
         ],
         "type": "treemap",
         "values": {
          "bdata": "AAAAAHrHI0EAAAAAgoohQQAAAADoZxdBAAAAAJiuFkEAAAAACD8WQQAAAABA1hVBAAAAABgIFUEAAAAACMMSQQAAAACc4xBBAAAAAHQAEEEAAAAAescjQQAAAACCiiFBAAAAAOhnF0EAAAAAbEImQQAAAAAIPxZBAAAAABgIFUEAAAAACMMSQQAAAACc4xBBAAAAAHQAEEE=",
          "dtype": "f8"
         }
        }
       ],
       "layout": {
        "legend": {
         "tracegroupgap": 0
        },
        "template": {
         "data": {
          "bar": [
           {
            "error_x": {
             "color": "#2a3f5f"
            },
            "error_y": {
             "color": "#2a3f5f"
            },
            "marker": {
             "line": {
              "color": "#E5ECF6",
              "width": 0.5
             },
             "pattern": {
              "fillmode": "overlay",
              "size": 10,
              "solidity": 0.2
             }
            },
            "type": "bar"
           }
          ],
          "barpolar": [
           {
            "marker": {
             "line": {
              "color": "#E5ECF6",
              "width": 0.5
             },
             "pattern": {
              "fillmode": "overlay",
              "size": 10,
              "solidity": 0.2
             }
            },
            "type": "barpolar"
           }
          ],
          "carpet": [
           {
            "aaxis": {
             "endlinecolor": "#2a3f5f",
             "gridcolor": "white",
             "linecolor": "white",
             "minorgridcolor": "white",
             "startlinecolor": "#2a3f5f"
            },
            "baxis": {
             "endlinecolor": "#2a3f5f",
             "gridcolor": "white",
             "linecolor": "white",
             "minorgridcolor": "white",
             "startlinecolor": "#2a3f5f"
            },
            "type": "carpet"
           }
          ],
          "choropleth": [
           {
            "colorbar": {
             "outlinewidth": 0,
             "ticks": ""
            },
            "type": "choropleth"
           }
          ],
          "contour": [
           {
            "colorbar": {
             "outlinewidth": 0,
             "ticks": ""
            },
            "colorscale": [
             [
              0,
              "#0d0887"
             ],
             [
              0.1111111111111111,
              "#46039f"
             ],
             [
              0.2222222222222222,
              "#7201a8"
             ],
             [
              0.3333333333333333,
              "#9c179e"
             ],
             [
              0.4444444444444444,
              "#bd3786"
             ],
             [
              0.5555555555555556,
              "#d8576b"
             ],
             [
              0.6666666666666666,
              "#ed7953"
             ],
             [
              0.7777777777777778,
              "#fb9f3a"
             ],
             [
              0.8888888888888888,
              "#fdca26"
             ],
             [
              1,
              "#f0f921"
             ]
            ],
            "type": "contour"
           }
          ],
          "contourcarpet": [
           {
            "colorbar": {
             "outlinewidth": 0,
             "ticks": ""
            },
            "type": "contourcarpet"
           }
          ],
          "heatmap": [
           {
            "colorbar": {
             "outlinewidth": 0,
             "ticks": ""
            },
            "colorscale": [
             [
              0,
              "#0d0887"
             ],
             [
              0.1111111111111111,
              "#46039f"
             ],
             [
              0.2222222222222222,
              "#7201a8"
             ],
             [
              0.3333333333333333,
              "#9c179e"
             ],
             [
              0.4444444444444444,
              "#bd3786"
             ],
             [
              0.5555555555555556,
              "#d8576b"
             ],
             [
              0.6666666666666666,
              "#ed7953"
             ],
             [
              0.7777777777777778,
              "#fb9f3a"
             ],
             [
              0.8888888888888888,
              "#fdca26"
             ],
             [
              1,
              "#f0f921"
             ]
            ],
            "type": "heatmap"
           }
          ],
          "histogram": [
           {
            "marker": {
             "pattern": {
              "fillmode": "overlay",
              "size": 10,
              "solidity": 0.2
             }
            },
            "type": "histogram"
           }
          ],
          "histogram2d": [
           {
            "colorbar": {
             "outlinewidth": 0,
             "ticks": ""
            },
            "colorscale": [
             [
              0,
              "#0d0887"
             ],
             [
              0.1111111111111111,
              "#46039f"
             ],
             [
              0.2222222222222222,
              "#7201a8"
             ],
             [
              0.3333333333333333,
              "#9c179e"
             ],
             [
              0.4444444444444444,
              "#bd3786"
             ],
             [
              0.5555555555555556,
              "#d8576b"
             ],
             [
              0.6666666666666666,
              "#ed7953"
             ],
             [
              0.7777777777777778,
              "#fb9f3a"
             ],
             [
              0.8888888888888888,
              "#fdca26"
             ],
             [
              1,
              "#f0f921"
             ]
            ],
            "type": "histogram2d"
           }
          ],
          "histogram2dcontour": [
           {
            "colorbar": {
             "outlinewidth": 0,
             "ticks": ""
            },
            "colorscale": [
             [
              0,
              "#0d0887"
             ],
             [
              0.1111111111111111,
              "#46039f"
             ],
             [
              0.2222222222222222,
              "#7201a8"
             ],
             [
              0.3333333333333333,
              "#9c179e"
             ],
             [
              0.4444444444444444,
              "#bd3786"
             ],
             [
              0.5555555555555556,
              "#d8576b"
             ],
             [
              0.6666666666666666,
              "#ed7953"
             ],
             [
              0.7777777777777778,
              "#fb9f3a"
             ],
             [
              0.8888888888888888,
              "#fdca26"
             ],
             [
              1,
              "#f0f921"
             ]
            ],
            "type": "histogram2dcontour"
           }
          ],
          "mesh3d": [
           {
            "colorbar": {
             "outlinewidth": 0,
             "ticks": ""
            },
            "type": "mesh3d"
           }
          ],
          "parcoords": [
           {
            "line": {
             "colorbar": {
              "outlinewidth": 0,
              "ticks": ""
             }
            },
            "type": "parcoords"
           }
          ],
          "pie": [
           {
            "automargin": true,
            "type": "pie"
           }
          ],
          "scatter": [
           {
            "fillpattern": {
             "fillmode": "overlay",
             "size": 10,
             "solidity": 0.2
            },
            "type": "scatter"
           }
          ],
          "scatter3d": [
           {
            "line": {
             "colorbar": {
              "outlinewidth": 0,
              "ticks": ""
             }
            },
            "marker": {
             "colorbar": {
              "outlinewidth": 0,
              "ticks": ""
             }
            },
            "type": "scatter3d"
           }
          ],
          "scattercarpet": [
           {
            "marker": {
             "colorbar": {
              "outlinewidth": 0,
              "ticks": ""
             }
            },
            "type": "scattercarpet"
           }
          ],
          "scattergeo": [
           {
            "marker": {
             "colorbar": {
              "outlinewidth": 0,
              "ticks": ""
             }
            },
            "type": "scattergeo"
           }
          ],
          "scattergl": [
           {
            "marker": {
             "colorbar": {
              "outlinewidth": 0,
              "ticks": ""
             }
            },
            "type": "scattergl"
           }
          ],
          "scattermap": [
           {
            "marker": {
             "colorbar": {
              "outlinewidth": 0,
              "ticks": ""
             }
            },
            "type": "scattermap"
           }
          ],
          "scattermapbox": [
           {
            "marker": {
             "colorbar": {
              "outlinewidth": 0,
              "ticks": ""
             }
            },
            "type": "scattermapbox"
           }
          ],
          "scatterpolar": [
           {
            "marker": {
             "colorbar": {
              "outlinewidth": 0,
              "ticks": ""
             }
            },
            "type": "scatterpolar"
           }
          ],
          "scatterpolargl": [
           {
            "marker": {
             "colorbar": {
              "outlinewidth": 0,
              "ticks": ""
             }
            },
            "type": "scatterpolargl"
           }
          ],
          "scatterternary": [
           {
            "marker": {
             "colorbar": {
              "outlinewidth": 0,
              "ticks": ""
             }
            },
            "type": "scatterternary"
           }
          ],
          "surface": [
           {
            "colorbar": {
             "outlinewidth": 0,
             "ticks": ""
            },
            "colorscale": [
             [
              0,
              "#0d0887"
             ],
             [
              0.1111111111111111,
              "#46039f"
             ],
             [
              0.2222222222222222,
              "#7201a8"
             ],
             [
              0.3333333333333333,
              "#9c179e"
             ],
             [
              0.4444444444444444,
              "#bd3786"
             ],
             [
              0.5555555555555556,
              "#d8576b"
             ],
             [
              0.6666666666666666,
              "#ed7953"
             ],
             [
              0.7777777777777778,
              "#fb9f3a"
             ],
             [
              0.8888888888888888,
              "#fdca26"
             ],
             [
              1,
              "#f0f921"
             ]
            ],
            "type": "surface"
           }
          ],
          "table": [
           {
            "cells": {
             "fill": {
              "color": "#EBF0F8"
             },
             "line": {
              "color": "white"
             }
            },
            "header": {
             "fill": {
              "color": "#C8D4E3"
             },
             "line": {
              "color": "white"
             }
            },
            "type": "table"
           }
          ]
         },
         "layout": {
          "annotationdefaults": {
           "arrowcolor": "#2a3f5f",
           "arrowhead": 0,
           "arrowwidth": 1
          },
          "autotypenumbers": "strict",
          "coloraxis": {
           "colorbar": {
            "outlinewidth": 0,
            "ticks": ""
           }
          },
          "colorscale": {
           "diverging": [
            [
             0,
             "#8e0152"
            ],
            [
             0.1,
             "#c51b7d"
            ],
            [
             0.2,
             "#de77ae"
            ],
            [
             0.3,
             "#f1b6da"
            ],
            [
             0.4,
             "#fde0ef"
            ],
            [
             0.5,
             "#f7f7f7"
            ],
            [
             0.6,
             "#e6f5d0"
            ],
            [
             0.7,
             "#b8e186"
            ],
            [
             0.8,
             "#7fbc41"
            ],
            [
             0.9,
             "#4d9221"
            ],
            [
             1,
             "#276419"
            ]
           ],
           "sequential": [
            [
             0,
             "#0d0887"
            ],
            [
             0.1111111111111111,
             "#46039f"
            ],
            [
             0.2222222222222222,
             "#7201a8"
            ],
            [
             0.3333333333333333,
             "#9c179e"
            ],
            [
             0.4444444444444444,
             "#bd3786"
            ],
            [
             0.5555555555555556,
             "#d8576b"
            ],
            [
             0.6666666666666666,
             "#ed7953"
            ],
            [
             0.7777777777777778,
             "#fb9f3a"
            ],
            [
             0.8888888888888888,
             "#fdca26"
            ],
            [
             1,
             "#f0f921"
            ]
           ],
           "sequentialminus": [
            [
             0,
             "#0d0887"
            ],
            [
             0.1111111111111111,
             "#46039f"
            ],
            [
             0.2222222222222222,
             "#7201a8"
            ],
            [
             0.3333333333333333,
             "#9c179e"
            ],
            [
             0.4444444444444444,
             "#bd3786"
            ],
            [
             0.5555555555555556,
             "#d8576b"
            ],
            [
             0.6666666666666666,
             "#ed7953"
            ],
            [
             0.7777777777777778,
             "#fb9f3a"
            ],
            [
             0.8888888888888888,
             "#fdca26"
            ],
            [
             1,
             "#f0f921"
            ]
           ]
          },
          "colorway": [
           "#636efa",
           "#EF553B",
           "#00cc96",
           "#ab63fa",
           "#FFA15A",
           "#19d3f3",
           "#FF6692",
           "#B6E880",
           "#FF97FF",
           "#FECB52"
          ],
          "font": {
           "color": "#2a3f5f"
          },
          "geo": {
           "bgcolor": "white",
           "lakecolor": "white",
           "landcolor": "#E5ECF6",
           "showlakes": true,
           "showland": true,
           "subunitcolor": "white"
          },
          "hoverlabel": {
           "align": "left"
          },
          "hovermode": "closest",
          "mapbox": {
           "style": "light"
          },
          "paper_bgcolor": "white",
          "plot_bgcolor": "#E5ECF6",
          "polar": {
           "angularaxis": {
            "gridcolor": "white",
            "linecolor": "white",
            "ticks": ""
           },
           "bgcolor": "#E5ECF6",
           "radialaxis": {
            "gridcolor": "white",
            "linecolor": "white",
            "ticks": ""
           }
          },
          "scene": {
           "xaxis": {
            "backgroundcolor": "#E5ECF6",
            "gridcolor": "white",
            "gridwidth": 2,
            "linecolor": "white",
            "showbackground": true,
            "ticks": "",
            "zerolinecolor": "white"
           },
           "yaxis": {
            "backgroundcolor": "#E5ECF6",
            "gridcolor": "white",
            "gridwidth": 2,
            "linecolor": "white",
            "showbackground": true,
            "ticks": "",
            "zerolinecolor": "white"
           },
           "zaxis": {
            "backgroundcolor": "#E5ECF6",
            "gridcolor": "white",
            "gridwidth": 2,
            "linecolor": "white",
            "showbackground": true,
            "ticks": "",
            "zerolinecolor": "white"
           }
          },
          "shapedefaults": {
           "line": {
            "color": "#2a3f5f"
           }
          },
          "ternary": {
           "aaxis": {
            "gridcolor": "white",
            "linecolor": "white",
            "ticks": ""
           },
           "baxis": {
            "gridcolor": "white",
            "linecolor": "white",
            "ticks": ""
           },
           "bgcolor": "#E5ECF6",
           "caxis": {
            "gridcolor": "white",
            "linecolor": "white",
            "ticks": ""
           }
          },
          "title": {
           "x": 0.05
          },
          "xaxis": {
           "automargin": true,
           "gridcolor": "white",
           "linecolor": "white",
           "ticks": "",
           "title": {
            "standoff": 15
           },
           "zerolinecolor": "white",
           "zerolinewidth": 2
          },
          "yaxis": {
           "automargin": true,
           "gridcolor": "white",
           "linecolor": "white",
           "ticks": "",
           "title": {
            "standoff": 15
           },
           "zerolinecolor": "white",
           "zerolinewidth": 2
          }
         }
        },
        "title": {
         "text": "Treemap: Revenue by Company and Industry"
        }
       }
      }
     },
     "metadata": {},
     "output_type": "display_data"
    }
   ],
   "source": [
    "# Create treemap\n",
    "fig = px.treemap(\n",
    "    top10,\n",
    "    path=['Industry', 'Name'],\n",
    "    values='Revenue (USD millions)',\n",
    "    title='Treemap: Revenue by Company and Industry'\n",
    ")\n",
    "fig.show()\n"
   ]
  },
  {
   "cell_type": "markdown",
   "id": "b239ef94",
   "metadata": {},
   "source": [
    "GitHub doesn’t support rendering interactive Plotly charts directly from .py files \n",
    " or notebooks unless you handle the output properly."
   ]
  },
  {
   "cell_type": "code",
   "execution_count": 27,
   "id": "25b4bbff",
   "metadata": {},
   "outputs": [],
   "source": [
    "#  If you want to keep it interactive and share it via GitHub: You can export the chart to an HTML file:\n",
    "\n",
    "fig.write_html(\"treemap.html\")"
   ]
  }
 ],
 "metadata": {
  "kernelspec": {
   "display_name": "Python 3",
   "language": "python",
   "name": "python3"
  },
  "language_info": {
   "codemirror_mode": {
    "name": "ipython",
    "version": 3
   },
   "file_extension": ".py",
   "mimetype": "text/x-python",
   "name": "python",
   "nbconvert_exporter": "python",
   "pygments_lexer": "ipython3",
   "version": "3.13.1"
  }
 },
 "nbformat": 4,
 "nbformat_minor": 5
}
